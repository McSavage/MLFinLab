{
 "cells": [
  {
   "cell_type": "code",
   "execution_count": 10,
   "id": "735af00c",
   "metadata": {},
   "outputs": [
    {
     "data": {
      "text/plain": [
       "6"
      ]
     },
     "execution_count": 10,
     "metadata": {},
     "output_type": "execute_result"
    }
   ],
   "source": [
    "import pandas as pd\n",
    "import numpy as np\n",
    "import datetime as dt\n",
    "import matplotlib.pyplot as plt\n",
    "# Load data\n",
    "url = \"../data/knn.csv\"\n",
    "df = pd.read_csv(url)  \n",
    "len(df)"
   ]
  },
  {
   "cell_type": "code",
   "execution_count": 11,
   "id": "a88e0718",
   "metadata": {},
   "outputs": [
    {
     "name": "stdout",
     "output_type": "stream",
     "text": [
      "Dataset shape: (6, 4)\n",
      "\n",
      "First few rows:\n",
      "   X1  X2  X3      Y\n",
      "0   0   3   0    red\n",
      "1   2   0   0    red\n",
      "2   0   1   3    red\n",
      "3   0   1   2  green\n",
      "4  -1   0   1  green\n",
      "5   1   1   1    red\n",
      "\n",
      "Column names:\n",
      "['X1', 'X2', 'X3', 'Y']\n",
      "\n",
      "Data types:\n",
      "X1     int64\n",
      "X2     int64\n",
      "X3     int64\n",
      "Y     object\n",
      "dtype: object\n"
     ]
    }
   ],
   "source": [
    "# First, let's examine the structure of the data\n",
    "print(\"Dataset shape:\", df.shape)\n",
    "print(\"\\nFirst few rows:\")\n",
    "print(df.head(10))\n",
    "print(\"\\nColumn names:\")\n",
    "print(df.columns.tolist())\n",
    "print(\"\\nData types:\")\n",
    "print(df.dtypes)"
   ]
  },
  {
   "cell_type": "code",
   "execution_count": 13,
   "id": "d7542ed0",
   "metadata": {},
   "outputs": [
    {
     "name": "stdout",
     "output_type": "stream",
     "text": [
      "Observations sorted by distance from test point (0,0,0):\n",
      "   X1  X2  X3      Y  distance\n",
      "4  -1   0   1  green  1.414214\n",
      "5   1   1   1    red  1.732051\n",
      "1   2   0   0    red  2.000000\n",
      "3   0   1   2  green  2.236068\n",
      "0   0   3   0    red  3.000000\n",
      "2   0   1   3    red  3.162278\n",
      "\n",
      "K=1 Prediction: green\n",
      "Reason: The closest observation is at distance 1.4142\n",
      "This observation has coordinates (-1, 0, 1) and Y=green\n",
      "\n",
      "K=3 Prediction: red\n",
      "Reason: Average of 3 nearest neighbors:\n",
      "  Neighbor 1: (-1, 0, 1) -> Y=green, distance=1.4142\n",
      "  Neighbor 2: (1, 1, 1) -> Y=red, distance=1.7321\n",
      "  Neighbor 3: (2, 0, 0) -> Y=red, distance=2.0000\n"
     ]
    }
   ],
   "source": [
    "# Assuming the data has columns X1, X2, X3, and Y\n",
    "# Test point coordinates\n",
    "test_point = np.array([0, 0, 0])\n",
    "\n",
    "# Extract feature columns (X1, X2, X3)\n",
    "# Adjust column names based on your actual data structure\n",
    "X_cols = ['X1', 'X2', 'X3']  # Replace with actual column names if different\n",
    "feature_data = df[X_cols].values\n",
    "\n",
    "# Compute Euclidean distances from each observation to test point (0,0,0)\n",
    "distances = np.sqrt(np.sum((feature_data - test_point)**2, axis=1))\n",
    "\n",
    "# Add distances to the dataframe for analysis\n",
    "df_with_distances = df.copy()\n",
    "df_with_distances['distance'] = distances\n",
    "\n",
    "# Sort by distance\n",
    "df_sorted = df_with_distances.sort_values('distance')\n",
    "\n",
    "print(\"Observations sorted by distance from test point (0,0,0):\")\n",
    "print(df_sorted[['X1', 'X2', 'X3', 'Y', 'distance']].head(10))\n",
    "\n",
    "# K=1 prediction\n",
    "k1_nearest = df_sorted.iloc[0]\n",
    "k1_prediction = k1_nearest['Y']\n",
    "print(f\"\\nK=1 Prediction: {k1_prediction}\")\n",
    "print(f\"Reason: The closest observation is at distance {k1_nearest['distance']:.4f}\")\n",
    "print(f\"This observation has coordinates ({k1_nearest['X1']}, {k1_nearest['X2']}, {k1_nearest['X3']}) and Y={k1_prediction}\")\n",
    "\n",
    "# K=3 prediction\n",
    "k3_nearest = df_sorted.iloc[:3]\n",
    "#k3_prediction = k3_nearest['Y'].mean()  # For regression\n",
    "k3_prediction = k3_nearest['Y'].mode()[0]\n",
    "\n",
    "print(f\"\\nK=3 Prediction: {k3_prediction}\")\n",
    "print(\"Reason: Average of 3 nearest neighbors:\")\n",
    "for i in range(3):\n",
    "    obs = k3_nearest.iloc[i]\n",
    "    print(f\"  Neighbor {i+1}: ({obs['X1']}, {obs['X2']}, {obs['X3']}) -> Y={obs['Y']}, distance={obs['distance']:.4f}\")"
   ]
  }
 ],
 "metadata": {
  "kernelspec": {
   "display_name": "MlFinLab",
   "language": "python",
   "name": "python3"
  },
  "language_info": {
   "codemirror_mode": {
    "name": "ipython",
    "version": 3
   },
   "file_extension": ".py",
   "mimetype": "text/x-python",
   "name": "python",
   "nbconvert_exporter": "python",
   "pygments_lexer": "ipython3",
   "version": "3.11.13"
  }
 },
 "nbformat": 4,
 "nbformat_minor": 5
}
