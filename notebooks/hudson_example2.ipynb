{
 "cells": [
  {
   "cell_type": "code",
   "execution_count": 64,
   "id": "20f819f0",
   "metadata": {},
   "outputs": [
    {
     "data": {
      "text/plain": [
       "450"
      ]
     },
     "execution_count": 64,
     "metadata": {},
     "output_type": "execute_result"
    }
   ],
   "source": [
    "import pandas as pd\n",
    "import numpy as np\n",
    "import datetime as dt\n",
    "import matplotlib.pyplot as plt\n",
    "from mlfinlab.multi_product.etf_trick import get_futures_roll_series\n",
    "# Load data\n",
    "url = \"https://raw.githubusercontent.com/hudson-and-thames/example-data/main/futures_stitched.csv\"\n",
    "aggregated_df = pd.read_csv(url, index_col=0, parse_dates=[0])  \n",
    "len(aggregated_df)"
   ]
  },
  {
   "cell_type": "code",
   "execution_count": 65,
   "id": "b206b18a",
   "metadata": {},
   "outputs": [
    {
     "data": {
      "text/plain": [
       "Index(['close', 'open', 'high', 'low', 'volume', 'ticker', 'nearest_contract'], dtype='object')"
      ]
     },
     "execution_count": 65,
     "metadata": {},
     "output_type": "execute_result"
    }
   ],
   "source": [
    "aggregated_df.columns"
   ]
  },
  {
   "cell_type": "code",
   "execution_count": 66,
   "id": "0c1e68e4",
   "metadata": {},
   "outputs": [
    {
     "data": {
      "application/vnd.microsoft.datawrangler.viewer.v0+json": {
       "columns": [
        {
         "name": "date",
         "rawType": "datetime64[ns]",
         "type": "datetime"
        },
        {
         "name": "close",
         "rawType": "float64",
         "type": "float"
        }
       ],
       "ref": "ece36122-077c-4f6c-8c4b-c0f534a4b01f",
       "rows": [
        [
         "2021-01-04 00:00:00",
         "0.0"
        ],
        [
         "2021-01-05 00:00:00",
         "0.0"
        ],
        [
         "2021-01-06 00:00:00",
         "0.0"
        ],
        [
         "2021-01-07 00:00:00",
         "0.0"
        ],
        [
         "2021-01-08 00:00:00",
         "0.0"
        ],
        [
         "2021-01-11 00:00:00",
         "0.0"
        ],
        [
         "2021-01-12 00:00:00",
         "0.0"
        ],
        [
         "2021-01-13 00:00:00",
         "0.0"
        ],
        [
         "2021-01-14 00:00:00",
         "0.0"
        ],
        [
         "2021-01-15 00:00:00",
         "0.0"
        ],
        [
         "2021-01-18 00:00:00",
         "0.0"
        ],
        [
         "2021-01-19 00:00:00",
         "0.0"
        ],
        [
         "2021-01-20 00:00:00",
         "0.0"
        ],
        [
         "2021-01-21 00:00:00",
         "0.0"
        ],
        [
         "2021-01-22 00:00:00",
         "0.0"
        ],
        [
         "2021-01-25 00:00:00",
         "0.0"
        ],
        [
         "2021-01-26 00:00:00",
         "0.0"
        ],
        [
         "2021-01-27 00:00:00",
         "0.0"
        ],
        [
         "2021-01-28 00:00:00",
         "0.0"
        ],
        [
         "2021-01-29 00:00:00",
         "0.0"
        ],
        [
         "2021-02-01 00:00:00",
         "-3.6999999999999886"
        ],
        [
         "2021-02-02 00:00:00",
         "-3.6999999999999886"
        ],
        [
         "2021-02-03 00:00:00",
         "-3.6999999999999886"
        ],
        [
         "2021-02-04 00:00:00",
         "-3.6999999999999886"
        ],
        [
         "2021-02-05 00:00:00",
         "-3.6999999999999886"
        ],
        [
         "2021-02-08 00:00:00",
         "-3.6999999999999886"
        ],
        [
         "2021-02-09 00:00:00",
         "-3.6999999999999886"
        ],
        [
         "2021-02-10 00:00:00",
         "-3.6999999999999886"
        ],
        [
         "2021-02-11 00:00:00",
         "-3.6999999999999886"
        ],
        [
         "2021-02-12 00:00:00",
         "-3.6999999999999886"
        ],
        [
         "2021-02-15 00:00:00",
         "-3.6999999999999886"
        ],
        [
         "2021-02-16 00:00:00",
         "-3.6999999999999886"
        ],
        [
         "2021-02-17 00:00:00",
         "-3.6999999999999886"
        ],
        [
         "2021-02-18 00:00:00",
         "-3.6999999999999886"
        ],
        [
         "2021-02-19 00:00:00",
         "-3.6999999999999886"
        ],
        [
         "2021-02-22 00:00:00",
         "-3.6999999999999886"
        ],
        [
         "2021-02-23 00:00:00",
         "-3.6999999999999886"
        ],
        [
         "2021-02-24 00:00:00",
         "-3.6999999999999886"
        ],
        [
         "2021-02-25 00:00:00",
         "-3.6999999999999886"
        ],
        [
         "2021-02-26 00:00:00",
         "-3.6999999999999886"
        ],
        [
         "2021-03-01 00:00:00",
         "-6.099999999999994"
        ],
        [
         "2021-03-02 00:00:00",
         "-6.099999999999994"
        ],
        [
         "2021-03-03 00:00:00",
         "-6.099999999999994"
        ],
        [
         "2021-03-04 00:00:00",
         "-6.099999999999994"
        ],
        [
         "2021-03-05 00:00:00",
         "-6.099999999999994"
        ],
        [
         "2021-03-08 00:00:00",
         "-6.099999999999994"
        ],
        [
         "2021-03-09 00:00:00",
         "-6.099999999999994"
        ],
        [
         "2021-03-10 00:00:00",
         "-6.099999999999994"
        ],
        [
         "2021-03-11 00:00:00",
         "-6.099999999999994"
        ],
        [
         "2021-03-12 00:00:00",
         "-6.099999999999994"
        ]
       ],
       "shape": {
        "columns": 1,
        "rows": 450
       }
      },
      "text/plain": [
       "date\n",
       "2021-01-04      0.00\n",
       "2021-01-05      0.00\n",
       "2021-01-06      0.00\n",
       "2021-01-07      0.00\n",
       "2021-01-08      0.00\n",
       "               ...  \n",
       "2022-09-23   -184.08\n",
       "2022-09-26   -184.08\n",
       "2022-09-27   -184.08\n",
       "2022-09-28   -184.08\n",
       "2022-09-29   -184.08\n",
       "Name: close, Length: 450, dtype: float64"
      ]
     },
     "execution_count": 66,
     "metadata": {},
     "output_type": "execute_result"
    }
   ],
   "source": [
    "# Get roll gaps (absolute and relative)\n",
    "roll_gaps_absolute = get_futures_roll_series(aggregated_df,\n",
    "                                             open_col=\"open\",\n",
    "                                             close_col=\"close\",\n",
    "                                             sec_col=\"ticker\",\n",
    "                                             current_sec_col=\"nearest_contract\",\n",
    "                                             method=\"absolute\",)\n",
    "roll_gaps_absolute"
   ]
  },
  {
   "cell_type": "code",
   "execution_count": 67,
   "id": "2a3c27e7",
   "metadata": {},
   "outputs": [
    {
     "data": {
      "application/vnd.microsoft.datawrangler.viewer.v0+json": {
       "columns": [
        {
         "name": "date",
         "rawType": "datetime64[ns]",
         "type": "datetime"
        },
        {
         "name": "close",
         "rawType": "float64",
         "type": "float"
        }
       ],
       "ref": "8e212269-a59e-4aed-889b-5e8e85ba5807",
       "rows": [
        [
         "2021-01-04 00:00:00",
         "1.0"
        ],
        [
         "2021-01-05 00:00:00",
         "1.0"
        ],
        [
         "2021-01-06 00:00:00",
         "1.0"
        ],
        [
         "2021-01-07 00:00:00",
         "1.0"
        ],
        [
         "2021-01-08 00:00:00",
         "1.0"
        ],
        [
         "2021-01-11 00:00:00",
         "1.0"
        ],
        [
         "2021-01-12 00:00:00",
         "1.0"
        ],
        [
         "2021-01-13 00:00:00",
         "1.0"
        ],
        [
         "2021-01-14 00:00:00",
         "1.0"
        ],
        [
         "2021-01-15 00:00:00",
         "1.0"
        ],
        [
         "2021-01-18 00:00:00",
         "1.0"
        ],
        [
         "2021-01-19 00:00:00",
         "1.0"
        ],
        [
         "2021-01-20 00:00:00",
         "1.0"
        ],
        [
         "2021-01-21 00:00:00",
         "1.0"
        ],
        [
         "2021-01-22 00:00:00",
         "1.0"
        ],
        [
         "2021-01-25 00:00:00",
         "1.0"
        ],
        [
         "2021-01-26 00:00:00",
         "1.0"
        ],
        [
         "2021-01-27 00:00:00",
         "1.0"
        ],
        [
         "2021-01-28 00:00:00",
         "1.0"
        ],
        [
         "2021-01-29 00:00:00",
         "1.0"
        ],
        [
         "2021-02-01 00:00:00",
         "0.985062575696407"
        ],
        [
         "2021-02-02 00:00:00",
         "0.985062575696407"
        ],
        [
         "2021-02-03 00:00:00",
         "0.985062575696407"
        ],
        [
         "2021-02-04 00:00:00",
         "0.985062575696407"
        ],
        [
         "2021-02-05 00:00:00",
         "0.985062575696407"
        ],
        [
         "2021-02-08 00:00:00",
         "0.985062575696407"
        ],
        [
         "2021-02-09 00:00:00",
         "0.985062575696407"
        ],
        [
         "2021-02-10 00:00:00",
         "0.985062575696407"
        ],
        [
         "2021-02-11 00:00:00",
         "0.985062575696407"
        ],
        [
         "2021-02-12 00:00:00",
         "0.985062575696407"
        ],
        [
         "2021-02-15 00:00:00",
         "0.985062575696407"
        ],
        [
         "2021-02-16 00:00:00",
         "0.985062575696407"
        ],
        [
         "2021-02-17 00:00:00",
         "0.985062575696407"
        ],
        [
         "2021-02-18 00:00:00",
         "0.985062575696407"
        ],
        [
         "2021-02-19 00:00:00",
         "0.985062575696407"
        ],
        [
         "2021-02-22 00:00:00",
         "0.985062575696407"
        ],
        [
         "2021-02-23 00:00:00",
         "0.985062575696407"
        ],
        [
         "2021-02-24 00:00:00",
         "0.985062575696407"
        ],
        [
         "2021-02-25 00:00:00",
         "0.985062575696407"
        ],
        [
         "2021-02-26 00:00:00",
         "0.985062575696407"
        ],
        [
         "2021-03-01 00:00:00",
         "0.9750194568277945"
        ],
        [
         "2021-03-02 00:00:00",
         "0.9750194568277945"
        ],
        [
         "2021-03-03 00:00:00",
         "0.9750194568277945"
        ],
        [
         "2021-03-04 00:00:00",
         "0.9750194568277945"
        ],
        [
         "2021-03-05 00:00:00",
         "0.9750194568277945"
        ],
        [
         "2021-03-08 00:00:00",
         "0.9750194568277945"
        ],
        [
         "2021-03-09 00:00:00",
         "0.9750194568277945"
        ],
        [
         "2021-03-10 00:00:00",
         "0.9750194568277945"
        ],
        [
         "2021-03-11 00:00:00",
         "0.9750194568277945"
        ],
        [
         "2021-03-12 00:00:00",
         "0.9750194568277945"
        ]
       ],
       "shape": {
        "columns": 1,
        "rows": 450
       }
      },
      "text/plain": [
       "date\n",
       "2021-01-04    1.000000\n",
       "2021-01-05    1.000000\n",
       "2021-01-06    1.000000\n",
       "2021-01-07    1.000000\n",
       "2021-01-08    1.000000\n",
       "                ...   \n",
       "2022-09-23    0.779729\n",
       "2022-09-26    0.779729\n",
       "2022-09-27    0.779729\n",
       "2022-09-28    0.779729\n",
       "2022-09-29    0.779729\n",
       "Name: close, Length: 450, dtype: float64"
      ]
     },
     "execution_count": 67,
     "metadata": {},
     "output_type": "execute_result"
    }
   ],
   "source": [
    "roll_gaps_relative = get_futures_roll_series(aggregated_df,\n",
    "                                             open_col=\"open\",\n",
    "                                             close_col=\"close\",\n",
    "                                             sec_col=\"ticker\",\n",
    "                                             current_sec_col=\"nearest_contract\",\n",
    "                                             method=\"relative\",)\n",
    "\n",
    "roll_gaps_relative"
   ]
  },
  {
   "cell_type": "code",
   "execution_count": 68,
   "id": "0cb23a42",
   "metadata": {},
   "outputs": [
    {
     "data": {
      "text/plain": [
       "450"
      ]
     },
     "execution_count": 68,
     "metadata": {},
     "output_type": "execute_result"
    }
   ],
   "source": [
    "# Filter out rows with price info of the nearest contract only\n",
    "# This forms the basis of the continuous contract\n",
    "continuous_contract = aggregated_df[aggregated_df.ticker == aggregated_df.nearest_contract]\n",
    "\n",
    "len(continuous_contract)"
   ]
  },
  {
   "cell_type": "code",
   "execution_count": 69,
   "id": "a7bad7d9",
   "metadata": {},
   "outputs": [
    {
     "data": {
      "text/plain": [
       "Index(['close', 'open', 'high', 'low', 'volume', 'ticker', 'nearest_contract'], dtype='object')"
      ]
     },
     "execution_count": 69,
     "metadata": {},
     "output_type": "execute_result"
    }
   ],
   "source": [
    "continuous_contract.columns"
   ]
  },
  {
   "cell_type": "code",
   "execution_count": 70,
   "id": "e930addf",
   "metadata": {},
   "outputs": [
    {
     "data": {
      "image/png": "[encoded data removed]",
      "text/plain": [
       "<Figure size 2000x1000 with 1 Axes>"
      ]
     },
     "metadata": {},
     "output_type": "display_data"
    }
   ],
   "source": [
    "# Make a copy of the first contract\n",
    "continuous_contract_absolute_method = continuous_contract.copy()\n",
    "continuous_contract_relative_method = continuous_contract.copy()\n",
    "# Apply the roll gaps\n",
    "continuous_contract_absolute_method[\"close\"] -= roll_gaps_absolute\n",
    "continuous_contract_relative_method[\"close\"] /= roll_gaps_relative\n",
    "# Plot\n",
    "fig = plt.figure(figsize=(20, 10))\n",
    "_ = continuous_contract.close.plot(label=\"Autoroll Series\")\n",
    "_ = continuous_contract_absolute_method.close.plot(label=\"Absolute Return Roll\")\n",
    "_ = continuous_contract_relative_method.close.plot(label=\"Relative Return Roll\")\n",
    "_ = plt.legend(loc=\"best\")\n",
    "plt.show() "
   ]
  },
  {
   "cell_type": "code",
   "execution_count": 71,
   "id": "8e917da0",
   "metadata": {},
   "outputs": [
    {
     "data": {
      "image/png": "[encoded data removed]",
      "text/plain": [
       "<Figure size 640x480 with 1 Axes>"
      ]
     },
     "metadata": {},
     "output_type": "display_data"
    }
   ],
   "source": [
    "time_bars = np.log(continuous_contract_relative_method.close/continuous_contract_relative_method.close.shift(1)).dropna()\n",
    "\n",
    "bin_len = 0.01\n",
    "plt.hist(time_bars, bins=np.arange(min(time_bars),max(time_bars)+bin_len, bin_len))\n",
    "plt.show()"
   ]
  },
  {
   "cell_type": "code",
   "execution_count": 72,
   "id": "76ac3975",
   "metadata": {},
   "outputs": [],
   "source": [
    "# Transform the dataframe to keep index, close, volume and add value column\n",
    "continuous_contract_relative_method = continuous_contract_relative_method[['close', 'volume']].copy().dropna()\n",
    "continuous_contract_relative_method['value'] = continuous_contract_relative_method['close'] * continuous_contract_relative_method['volume']"
   ]
  },
  {
   "cell_type": "code",
   "execution_count": 73,
   "id": "69e6b5ea",
   "metadata": {},
   "outputs": [],
   "source": [
    "def bar(x, y):\n",
    "    return np.int64(x/y)*y"
   ]
  },
  {
   "cell_type": "code",
   "execution_count": 74,
   "id": "25d67be1",
   "metadata": {},
   "outputs": [
    {
     "data": {
      "application/vnd.microsoft.datawrangler.viewer.v0+json": {
       "columns": [
        {
         "name": "date",
         "rawType": "datetime64[ns]",
         "type": "datetime"
        },
        {
         "name": "open",
         "rawType": "float64",
         "type": "float"
        },
        {
         "name": "high",
         "rawType": "float64",
         "type": "float"
        },
        {
         "name": "low",
         "rawType": "float64",
         "type": "float"
        },
        {
         "name": "close",
         "rawType": "float64",
         "type": "float"
        }
       ],
       "ref": "6fb6ce6b-8e9e-4517-b769-4ea68e2ee938",
       "rows": [
        [
         "2021-01-10 00:00:00",
         "255.44",
         "258.76",
         "247.38",
         "258.76"
        ],
        [
         "2021-01-17 00:00:00",
         "262.6",
         "273.3",
         "255.78",
         "255.78"
        ],
        [
         "2021-01-24 00:00:00",
         "249.92",
         "261.3",
         "249.92",
         "261.3"
        ],
        [
         "2021-01-31 00:00:00",
         "258.5",
         "259.16",
         "247.7",
         "247.7"
        ],
        [
         "2021-02-07 00:00:00",
         "245.8930081967213",
         "253.10067213114752",
         "245.8930081967213",
         "253.10067213114752"
        ],
        [
         "2021-02-14 00:00:00",
         "256.61313934426227",
         "256.61313934426227",
         "252.49157377049178",
         "252.49157377049178"
        ],
        [
         "2021-02-21 00:00:00",
         "248.75577049180325",
         "248.75577049180325",
         "246.52240983606558",
         "246.98938524590164"
        ],
        [
         "2021-02-28 00:00:00",
         "242.96933606557377",
         "243.5784344262295",
         "238.9695901639344",
         "238.9695901639344"
        ],
        [
         "2021-03-07 00:00:00",
         "240.5490458242454",
         "242.86694828677972",
         "239.93367348905932",
         "242.86694828677972"
        ],
        [
         "2021-03-14 00:00:00",
         "243.4207833884472",
         "253.20520351790614",
         "243.4207833884472",
         "253.20520351790614"
        ],
        [
         "2021-03-21 00:00:00",
         "252.8359801167945",
         "252.8359801167945",
         "250.00526737493843",
         "250.23090389784"
        ],
        [
         "2021-03-28 00:00:00",
         "253.08212905086893",
         "255.44105633574898",
         "252.20009537043552",
         "255.44105633574898"
        ],
        [
         "2021-04-04 00:00:00",
         "253.20520351790614",
         "254.56110133500474",
         "253.20520351790614",
         "254.56110133500474"
        ],
        [
         "2021-04-11 00:00:00",
         "256.63705379643676",
         "256.63705379643676",
         "255.42436869520418",
         "256.4726219183035"
        ],
        [
         "2021-04-18 00:00:00",
         "259.84347542003474",
         "264.5297839468317",
         "259.84347542003474",
         "264.5297839468317"
        ],
        [
         "2021-04-25 00:00:00",
         "264.9408636421648",
         "267.26346392079665",
         "263.9748263581321",
         "264.7353237944983"
        ],
        [
         "2021-05-02 00:00:00",
         "264.4270140229985",
         "277.8693200603899",
         "264.3447980839319",
         "277.8693200603899"
        ],
        [
         "2021-05-09 00:00:00",
         "279.6329186969356",
         "282.8320045957858",
         "277.6232365297091",
         "281.31448948992096"
        ],
        [
         "2021-05-16 00:00:00",
         "285.8055139248453",
         "293.39308945416957",
         "285.8055139248453",
         "293.39308945416957"
        ],
        [
         "2021-05-23 00:00:00",
         "293.00345719725834",
         "293.00345719725834",
         "276.4748467198654",
         "285.4363886288241"
        ],
        [
         "2021-05-30 00:00:00",
         "285.08777029369304",
         "291.014281990922",
         "285.08777029369304",
         "287.0154246173592"
        ],
        [
         "2021-06-06 00:00:00",
         "292.7983875883577",
         "293.87679721602854",
         "290.6415683330161",
         "291.3740729857736"
        ],
        [
         "2021-06-13 00:00:00",
         "293.7954078101665",
         "303.2772735930835",
         "293.7954078101665",
         "300.2251708732605"
        ],
        [
         "2021-06-20 00:00:00",
         "303.70456797385873",
         "303.70456797385873",
         "299.2281506514516",
         "303.5824838650658"
        ],
        [
         "2021-06-27 00:00:00",
         "305.678261066011",
         "321.8951001840041",
         "305.678261066011",
         "321.8951001840041"
        ],
        [
         "2021-07-04 00:00:00",
         "319.90105974038636",
         "329.39196483419187",
         "319.90105974038636",
         "326.9156387490445"
        ],
        [
         "2021-07-11 00:00:00",
         "330.0820884972657",
         "330.0820884972657",
         "312.76810365603046",
         "323.5462114528604"
        ],
        [
         "2021-07-18 00:00:00",
         "320.7045257813798",
         "320.7045257813798",
         "316.6855703317144",
         "317.7207558263252"
        ],
        [
         "2021-07-25 00:00:00",
         "318.9589188688988",
         "318.9589188688988",
         "308.6273616775874",
         "308.6273616775874"
        ],
        [
         "2021-08-01 00:00:00",
         "311.9764912189751",
         "331.76680214535776",
         "311.9764912189751",
         "331.76680214535776"
        ],
        [
         "2021-08-08 00:00:00",
         "338.33283011524935",
         "341.0686751027042",
         "336.36707482796703",
         "341.0686751027042"
        ],
        [
         "2021-08-15 00:00:00",
         "339.40690259180576",
         "347.9386858489797",
         "339.40690259180576",
         "343.2168200558169"
        ],
        [
         "2021-08-22 00:00:00",
         "348.7898376228546",
         "349.31674110191994",
         "330.30768481871513",
         "330.30768481871513"
        ],
        [
         "2021-08-29 00:00:00",
         "333.06379532459556",
         "346.4998340407627",
         "333.06379532459556",
         "346.4998340407627"
        ],
        [
         "2021-09-05 00:00:00",
         "355.17347592691584",
         "361.7109211416463",
         "354.7499980515003",
         "361.7109211416463"
        ],
        [
         "2021-09-12 00:00:00",
         "364.8552017420247",
         "383.4440304486644",
         "364.8552017420247",
         "383.4440304486644"
        ],
        [
         "2021-09-19 00:00:00",
         "401.4198233149788",
         "454.93191957047577",
         "401.4198233149788",
         "412.69177263709014"
        ],
        [
         "2021-09-26 00:00:00",
         "440.10040730453983",
         "440.10040730453983",
         "411.8414326005098",
         "411.8414326005098"
        ],
        [
         "2021-10-03 00:00:00",
         "426.2972132223754",
         "521.3968698715568",
         "426.2972132223754",
         "518.3474267681066"
        ],
        [
         "2021-10-10 00:00:00",
         "552.9528159104239",
         "648.4119652120977",
         "506.6707617200854",
         "506.6707617200854"
        ],
        [
         "2021-10-17 00:00:00",
         "492.23415766071383",
         "532.417325644152",
         "491.67444974932107",
         "531.7225158231126"
        ],
        [
         "2021-10-24 00:00:00",
         "500.05076814740573",
         "510.53081628141473",
         "492.15695656948725",
         "507.71297645164435"
        ],
        [
         "2021-10-31 00:00:00",
         "514.1978681146775",
         "514.1978681146775",
         "436.1861654302122",
         "436.1861654302122"
        ],
        [
         "2021-11-07 00:00:00",
         "400.4710930813111",
         "441.8714979283411",
         "400.4710930813111",
         "433.29689809509756"
        ],
        [
         "2021-11-14 00:00:00",
         "444.1829117964328",
         "444.1829117964328",
         "404.36694387511085",
         "433.85611112770044"
        ],
        [
         "2021-11-21 00:00:00",
         "443.64233919825006",
         "509.23802792256276",
         "443.64233919825006",
         "463.5316827244909"
        ],
        [
         "2021-11-28 00:00:00",
         "456.6906432923162",
         "490.8026382810893",
         "456.6906432923162",
         "470.31680085340537"
        ],
        [
         "2021-12-05 00:00:00",
         "514.4946304290294",
         "586.7189615893966",
         "514.4946304290294",
         "586.7189615893966"
        ],
        [
         "2021-12-12 00:00:00",
         "578.5924527067197",
         "631.5083838183439",
         "578.5924527067197",
         "619.7867373654504"
        ],
        [
         "2021-12-19 00:00:00",
         "680.9976994333556",
         "902.1173846765157",
         "680.9976994333556",
         "847.0668406325755"
        ]
       ],
       "shape": {
        "columns": 4,
        "rows": 91
       }
      },
      "text/html": [
       "<div>\n",
       "<style scoped>\n",
       "    .dataframe tbody tr th:only-of-type {\n",
       "        vertical-align: middle;\n",
       "    }\n",
       "\n",
       "    .dataframe tbody tr th {\n",
       "        vertical-align: top;\n",
       "    }\n",
       "\n",
       "    .dataframe thead th {\n",
       "        text-align: right;\n",
       "    }\n",
       "</style>\n",
       "<table border=\"1\" class=\"dataframe\">\n",
       "  <thead>\n",
       "    <tr style=\"text-align: right;\">\n",
       "      <th></th>\n",
       "      <th>open</th>\n",
       "      <th>high</th>\n",
       "      <th>low</th>\n",
       "      <th>close</th>\n",
       "    </tr>\n",
       "    <tr>\n",
       "      <th>date</th>\n",
       "      <th></th>\n",
       "      <th></th>\n",
       "      <th></th>\n",
       "      <th></th>\n",
       "    </tr>\n",
       "  </thead>\n",
       "  <tbody>\n",
       "    <tr>\n",
       "      <th>2021-01-10</th>\n",
       "      <td>255.440000</td>\n",
       "      <td>258.760000</td>\n",
       "      <td>247.380000</td>\n",
       "      <td>258.760000</td>\n",
       "    </tr>\n",
       "    <tr>\n",
       "      <th>2021-01-17</th>\n",
       "      <td>262.600000</td>\n",
       "      <td>273.300000</td>\n",
       "      <td>255.780000</td>\n",
       "      <td>255.780000</td>\n",
       "    </tr>\n",
       "    <tr>\n",
       "      <th>2021-01-24</th>\n",
       "      <td>249.920000</td>\n",
       "      <td>261.300000</td>\n",
       "      <td>249.920000</td>\n",
       "      <td>261.300000</td>\n",
       "    </tr>\n",
       "    <tr>\n",
       "      <th>2021-01-31</th>\n",
       "      <td>258.500000</td>\n",
       "      <td>259.160000</td>\n",
       "      <td>247.700000</td>\n",
       "      <td>247.700000</td>\n",
       "    </tr>\n",
       "    <tr>\n",
       "      <th>2021-02-07</th>\n",
       "      <td>245.893008</td>\n",
       "      <td>253.100672</td>\n",
       "      <td>245.893008</td>\n",
       "      <td>253.100672</td>\n",
       "    </tr>\n",
       "    <tr>\n",
       "      <th>...</th>\n",
       "      <td>...</td>\n",
       "      <td>...</td>\n",
       "      <td>...</td>\n",
       "      <td>...</td>\n",
       "    </tr>\n",
       "    <tr>\n",
       "      <th>2022-09-04</th>\n",
       "      <td>1556.533434</td>\n",
       "      <td>1556.533434</td>\n",
       "      <td>1360.985276</td>\n",
       "      <td>1360.985276</td>\n",
       "    </tr>\n",
       "    <tr>\n",
       "      <th>2022-09-11</th>\n",
       "      <td>1457.454662</td>\n",
       "      <td>1457.454662</td>\n",
       "      <td>1232.222628</td>\n",
       "      <td>1232.222628</td>\n",
       "    </tr>\n",
       "    <tr>\n",
       "      <th>2022-09-18</th>\n",
       "      <td>1174.433336</td>\n",
       "      <td>1280.752295</td>\n",
       "      <td>1147.834359</td>\n",
       "      <td>1147.834359</td>\n",
       "    </tr>\n",
       "    <tr>\n",
       "      <th>2022-09-25</th>\n",
       "      <td>1095.482852</td>\n",
       "      <td>1143.653421</td>\n",
       "      <td>1057.136207</td>\n",
       "      <td>1057.136207</td>\n",
       "    </tr>\n",
       "    <tr>\n",
       "      <th>2022-10-02</th>\n",
       "      <td>1031.127179</td>\n",
       "      <td>1126.108869</td>\n",
       "      <td>1031.127179</td>\n",
       "      <td>1041.694950</td>\n",
       "    </tr>\n",
       "  </tbody>\n",
       "</table>\n",
       "<p>91 rows × 4 columns</p>\n",
       "</div>"
      ],
      "text/plain": [
       "                   open         high          low        close\n",
       "date                                                          \n",
       "2021-01-10   255.440000   258.760000   247.380000   258.760000\n",
       "2021-01-17   262.600000   273.300000   255.780000   255.780000\n",
       "2021-01-24   249.920000   261.300000   249.920000   261.300000\n",
       "2021-01-31   258.500000   259.160000   247.700000   247.700000\n",
       "2021-02-07   245.893008   253.100672   245.893008   253.100672\n",
       "...                 ...          ...          ...          ...\n",
       "2022-09-04  1556.533434  1556.533434  1360.985276  1360.985276\n",
       "2022-09-11  1457.454662  1457.454662  1232.222628  1232.222628\n",
       "2022-09-18  1174.433336  1280.752295  1147.834359  1147.834359\n",
       "2022-09-25  1095.482852  1143.653421  1057.136207  1057.136207\n",
       "2022-10-02  1031.127179  1126.108869  1031.127179  1041.694950\n",
       "\n",
       "[91 rows x 4 columns]"
      ]
     },
     "execution_count": 74,
     "metadata": {},
     "output_type": "execute_result"
    }
   ],
   "source": [
    "\n",
    "\n",
    "tick_bars = continuous_contract_relative_method.groupby(pd.Grouper(freq=f'W')).agg({'close': 'ohlc', 'volume': 'sum'})\n",
    "tick_bars_price = tick_bars.loc[:, 'close']\n",
    "tick_bars_price"
   ]
  },
  {
   "cell_type": "code",
   "execution_count": 75,
   "id": "d974f3fe",
   "metadata": {},
   "outputs": [
    {
     "data": {
      "image/png": "[encoded data removed]",
      "text/plain": [
       "<Figure size 1200x600 with 1 Axes>"
      ]
     },
     "metadata": {},
     "output_type": "display_data"
    }
   ],
   "source": [
    "# Alternative: Plot using the full tick bars DataFrame\n",
    "plt.figure(figsize=(12, 6))\n",
    "tick_bars_price.close.plot(title='Weekly Tick Bars Close Price')\n",
    "plt.show()"
   ]
  },
  {
   "cell_type": "code",
   "execution_count": 76,
   "id": "da58049d",
   "metadata": {},
   "outputs": [
    {
     "data": {
      "image/png": "[encoded data removed]",
      "text/plain": [
       "<Figure size 640x480 with 1 Axes>"
      ]
     },
     "metadata": {},
     "output_type": "display_data"
    }
   ],
   "source": [
    "tick_bars = np.log(tick_bars_price.close/tick_bars_price.close.shift(1)).dropna()\n",
    "\n",
    "bin_len = 0.1\n",
    "plt.hist(tick_bars, bins=np.arange(min(tick_bars),max(tick_bars)+bin_len, bin_len))\n",
    "plt.show()"
   ]
  },
  {
   "cell_type": "code",
   "execution_count": 77,
   "id": "67b78cb9",
   "metadata": {},
   "outputs": [
    {
     "name": "stdout",
     "output_type": "stream",
     "text": [
      "Weekly Volume Analysis:\n",
      "             volume              \n",
      "                sum    mean count\n",
      "date                             \n",
      "2021-01-10  12774.0  2554.8     5\n",
      "2021-01-17  20018.0  4003.6     5\n",
      "2021-01-24  20300.0  4060.0     5\n",
      "2021-01-31  22936.0  4587.2     5\n",
      "2021-02-07  21466.0  4293.2     5\n",
      "...             ...     ...   ...\n",
      "2022-09-04   9742.0  1948.4     5\n",
      "2022-09-11   8142.0  1628.4     5\n",
      "2022-09-18   8952.0  1790.4     5\n",
      "2022-09-25  12514.0  2502.8     5\n",
      "2022-10-02   9880.0  2470.0     4\n",
      "\n",
      "[91 rows x 3 columns]\n"
     ]
    }
   ],
   "source": [
    "# Using groupby similar to your existing code\n",
    "weekly_volume = continuous_contract_relative_method.groupby(pd.Grouper(freq='W')).agg({\n",
    "    'volume': ['sum', 'mean', 'count']\n",
    "})\n",
    "\n",
    "print(\"Weekly Volume Analysis:\")\n",
    "print(weekly_volume)"
   ]
  },
  {
   "cell_type": "code",
   "execution_count": 78,
   "id": "b4779298",
   "metadata": {},
   "outputs": [
    {
     "name": "stdout",
     "output_type": "stream",
     "text": [
      "Average Weekly Volume: 13,722\n",
      "Overall Average Weekly Volume: 13,722\n"
     ]
    }
   ],
   "source": [
    "# Get the average of the weekly volume sums\n",
    "avg_weekly_volume_sum = weekly_volume['volume']['sum'].mean()\n",
    "\n",
    "print(f\"Average Weekly Volume: {avg_weekly_volume_sum:,.0f}\")\n",
    "\n",
    "# Or assign it to the variable you're using later\n",
    "overall_avg_weekly_volume = weekly_volume['volume']['sum'].mean()\n",
    "print(f\"Overall Average Weekly Volume: {overall_avg_weekly_volume:,.0f}\")"
   ]
  },
  {
   "cell_type": "code",
   "execution_count": 79,
   "id": "72d45be7",
   "metadata": {},
   "outputs": [
    {
     "data": {
      "application/vnd.microsoft.datawrangler.viewer.v0+json": {
       "columns": [
        {
         "name": "index",
         "rawType": "int64",
         "type": "integer"
        },
        {
         "name": "open",
         "rawType": "float64",
         "type": "float"
        },
        {
         "name": "high",
         "rawType": "float64",
         "type": "float"
        },
        {
         "name": "low",
         "rawType": "float64",
         "type": "float"
        },
        {
         "name": "close",
         "rawType": "float64",
         "type": "float"
        }
       ],
       "ref": "e449ddf1-6663-4f5b-ad06-31d60aabbb36",
       "rows": [
        [
         "0",
         "255.44",
         "258.76",
         "247.38",
         "258.76"
        ],
        [
         "13722",
         "262.6",
         "273.3",
         "262.6",
         "262.66"
        ],
        [
         "27444",
         "260.3",
         "260.3",
         "249.92",
         "254.82"
        ],
        [
         "41166",
         "254.26",
         "261.3",
         "254.26",
         "261.3"
        ],
        [
         "54888",
         "258.5",
         "258.5",
         "252.14",
         "252.14"
        ],
        [
         "68610",
         "259.16",
         "259.16",
         "245.8930081967213",
         "245.8930081967213"
        ],
        [
         "82332",
         "247.43605737704917",
         "249.97396721311475",
         "247.43605737704917",
         "249.97396721311475"
        ],
        [
         "96054",
         "253.10067213114752",
         "256.61313934426227",
         "253.10067213114752",
         "256.59283606557375"
        ],
        [
         "109776",
         "255.80100819672128",
         "255.80100819672128",
         "252.49157377049178",
         "252.49157377049178"
        ],
        [
         "123498",
         "248.75577049180325",
         "248.75577049180325",
         "246.52240983606558",
         "246.98938524590164"
        ],
        [
         "137220",
         "242.96933606557377",
         "243.5784344262295",
         "242.96933606557377",
         "243.5784344262295"
        ],
        [
         "150942",
         "238.9695901639344",
         "242.86694828677972",
         "238.9695901639344",
         "242.86694828677972"
        ],
        [
         "164664",
         "243.4207833884472",
         "251.15396240061915",
         "243.4207833884472",
         "251.15396240061915"
        ],
        [
         "178386",
         "253.20520351790614",
         "253.20520351790614",
         "250.00526737493843",
         "251.4001113346936"
        ],
        [
         "192108",
         "252.50778153802855",
         "253.08212905086893",
         "250.23090389784",
         "252.67188082741154"
        ],
        [
         "205830",
         "252.7129056497573",
         "255.44105633574898",
         "252.20009537043552",
         "253.24622834025186"
        ],
        [
         "219552",
         "253.53340209667206",
         "256.63705379643676",
         "253.53340209667206",
         "255.42436869520418"
        ],
        [
         "233274",
         "256.4726219183035",
         "262.8649111807328",
         "256.4726219183035",
         "262.8649111807328"
        ],
        [
         "246996",
         "264.5297839468317",
         "264.9408636421648",
         "263.9748263581321",
         "263.9748263581321"
        ],
        [
         "260718",
         "264.26258214486523",
         "267.26346392079665",
         "264.26258214486523",
         "264.4270140229985"
        ],
        [
         "274440",
         "266.60573640826374",
         "279.6329186969356",
         "264.3447980839319",
         "279.6329186969356"
        ],
        [
         "288162",
         "277.6232365297091",
         "285.8055139248453",
         "277.6232365297091",
         "285.8055139248453"
        ],
        [
         "301884",
         "286.37970882976714",
         "293.39308945416957",
         "286.37970882976714",
         "293.39308945416957"
        ],
        [
         "315606",
         "293.00345719725834",
         "293.00345719725834",
         "276.4748467198654",
         "276.4748467198654"
        ],
        [
         "329328",
         "283.7138039140586",
         "286.625792360448",
         "283.7138039140586",
         "286.625792360448"
        ],
        [
         "343050",
         "291.014281990922",
         "292.7983875883577",
         "287.0154246173592",
         "292.7983875883577"
        ],
        [
         "356772",
         "293.87679721602854",
         "301.751222233172",
         "290.6415683330161",
         "301.751222233172"
        ],
        [
         "370494",
         "303.2772735930835",
         "303.70456797385873",
         "299.6350976807613",
         "301.32392785239676"
        ],
        [
         "384216",
         "299.2281506514516",
         "315.2415162547899",
         "299.2281506514516",
         "315.2415162547899"
        ],
        [
         "397938",
         "318.0087560540961",
         "323.9094879790873",
         "318.0087560540961",
         "323.9094879790873"
        ],
        [
         "411660",
         "324.7640767406378",
         "330.0820884972657",
         "324.7640767406378",
         "330.0820884972657"
        ],
        [
         "425382",
         "321.699115766398",
         "323.5462114528604",
         "312.76810365603046",
         "319.04010988808403"
        ],
        [
         "439104",
         "317.21331195641795",
         "318.9589188688988",
         "312.8695924300119",
         "316.0360421782331"
        ],
        [
         "452826",
         "310.73832817640147",
         "313.9047779246227",
         "308.6273616775874",
         "313.9047779246227"
        ],
        [
         "466548",
         "317.2945029756031",
         "338.33283011524935",
         "317.2945029756031",
         "336.36707482796703"
        ],
        [
         "480270",
         "337.1979610834162",
         "346.56063059603946",
         "337.1979610834162",
         "346.56063059603946"
        ],
        [
         "493992",
         "347.9386858489797",
         "349.31674110191994",
         "343.2168200558169",
         "345.6486822668879"
        ],
        [
         "507714",
         "332.3747676981254",
         "333.06379532459556",
         "330.30768481871513",
         "333.06379532459556"
        ],
        [
         "521436",
         "340.6633647341924",
         "346.4998340407627",
         "340.6633647341924",
         "346.4998340407627"
        ],
        [
         "535158",
         "355.17347592691584",
         "361.7109211416463",
         "354.7499980515003",
         "361.7109211416463"
        ],
        [
         "548880",
         "364.8552017420247",
         "383.4440304486644",
         "364.8552017420247",
         "383.4440304486644"
        ],
        [
         "562602",
         "401.4198233149788",
         "454.93191957047577",
         "401.4198233149788",
         "454.93191957047577"
        ],
        [
         "576324",
         "411.32727350862405",
         "440.10040730453983",
         "411.32727350862405",
         "440.10040730453983"
        ],
        [
         "590046",
         "429.0459868289956",
         "429.0459868289956",
         "414.07604711524414",
         "414.07604711524414"
        ],
        [
         "603768",
         "411.8414326005098",
         "447.2590838915649",
         "411.8414326005098",
         "447.2590838915649"
        ],
        [
         "617490",
         "434.5633093919237",
         "552.9528159104239",
         "434.5633093919237",
         "552.9528159104239"
        ],
        [
         "631212",
         "648.4119652120977",
         "648.4119652120977",
         "592.9622814386023",
         "592.9622814386023"
        ],
        [
         "644934",
         "547.1627340684299",
         "547.1627340684299",
         "491.67444974932107",
         "491.67444974932107"
        ],
        [
         "658656",
         "511.8432348322667",
         "532.417325644152",
         "494.0869838501519",
         "494.0869838501519"
        ],
        [
         "672378",
         "510.53081628141473",
         "514.1978681146775",
         "492.15695656948725",
         "514.1978681146775"
        ]
       ],
       "shape": {
        "columns": 4,
        "rows": 91
       }
      },
      "text/html": [
       "<div>\n",
       "<style scoped>\n",
       "    .dataframe tbody tr th:only-of-type {\n",
       "        vertical-align: middle;\n",
       "    }\n",
       "\n",
       "    .dataframe tbody tr th {\n",
       "        vertical-align: top;\n",
       "    }\n",
       "\n",
       "    .dataframe thead th {\n",
       "        text-align: right;\n",
       "    }\n",
       "</style>\n",
       "<table border=\"1\" class=\"dataframe\">\n",
       "  <thead>\n",
       "    <tr style=\"text-align: right;\">\n",
       "      <th></th>\n",
       "      <th>open</th>\n",
       "      <th>high</th>\n",
       "      <th>low</th>\n",
       "      <th>close</th>\n",
       "    </tr>\n",
       "  </thead>\n",
       "  <tbody>\n",
       "    <tr>\n",
       "      <th>0</th>\n",
       "      <td>255.440000</td>\n",
       "      <td>258.760000</td>\n",
       "      <td>247.380000</td>\n",
       "      <td>258.760000</td>\n",
       "    </tr>\n",
       "    <tr>\n",
       "      <th>13722</th>\n",
       "      <td>262.600000</td>\n",
       "      <td>273.300000</td>\n",
       "      <td>262.600000</td>\n",
       "      <td>262.660000</td>\n",
       "    </tr>\n",
       "    <tr>\n",
       "      <th>27444</th>\n",
       "      <td>260.300000</td>\n",
       "      <td>260.300000</td>\n",
       "      <td>249.920000</td>\n",
       "      <td>254.820000</td>\n",
       "    </tr>\n",
       "    <tr>\n",
       "      <th>41166</th>\n",
       "      <td>254.260000</td>\n",
       "      <td>261.300000</td>\n",
       "      <td>254.260000</td>\n",
       "      <td>261.300000</td>\n",
       "    </tr>\n",
       "    <tr>\n",
       "      <th>54888</th>\n",
       "      <td>258.500000</td>\n",
       "      <td>258.500000</td>\n",
       "      <td>252.140000</td>\n",
       "      <td>252.140000</td>\n",
       "    </tr>\n",
       "    <tr>\n",
       "      <th>...</th>\n",
       "      <td>...</td>\n",
       "      <td>...</td>\n",
       "      <td>...</td>\n",
       "      <td>...</td>\n",
       "    </tr>\n",
       "    <tr>\n",
       "      <th>1180092</th>\n",
       "      <td>1327.205793</td>\n",
       "      <td>1526.252666</td>\n",
       "      <td>1327.205793</td>\n",
       "      <td>1519.040647</td>\n",
       "    </tr>\n",
       "    <tr>\n",
       "      <th>1193814</th>\n",
       "      <td>1572.972952</td>\n",
       "      <td>1809.075520</td>\n",
       "      <td>1385.096210</td>\n",
       "      <td>1435.036623</td>\n",
       "    </tr>\n",
       "    <tr>\n",
       "      <th>1207536</th>\n",
       "      <td>1360.985276</td>\n",
       "      <td>1457.454662</td>\n",
       "      <td>1174.433336</td>\n",
       "      <td>1175.356734</td>\n",
       "    </tr>\n",
       "    <tr>\n",
       "      <th>1221258</th>\n",
       "      <td>1280.752295</td>\n",
       "      <td>1280.752295</td>\n",
       "      <td>1092.558760</td>\n",
       "      <td>1143.653421</td>\n",
       "    </tr>\n",
       "    <tr>\n",
       "      <th>1234980</th>\n",
       "      <td>1130.161558</td>\n",
       "      <td>1130.161558</td>\n",
       "      <td>1031.127179</td>\n",
       "      <td>1041.694950</td>\n",
       "    </tr>\n",
       "  </tbody>\n",
       "</table>\n",
       "<p>91 rows × 4 columns</p>\n",
       "</div>"
      ],
      "text/plain": [
       "                open         high          low        close\n",
       "0         255.440000   258.760000   247.380000   258.760000\n",
       "13722     262.600000   273.300000   262.600000   262.660000\n",
       "27444     260.300000   260.300000   249.920000   254.820000\n",
       "41166     254.260000   261.300000   254.260000   261.300000\n",
       "54888     258.500000   258.500000   252.140000   252.140000\n",
       "...              ...          ...          ...          ...\n",
       "1180092  1327.205793  1526.252666  1327.205793  1519.040647\n",
       "1193814  1572.972952  1809.075520  1385.096210  1435.036623\n",
       "1207536  1360.985276  1457.454662  1174.433336  1175.356734\n",
       "1221258  1280.752295  1280.752295  1092.558760  1143.653421\n",
       "1234980  1130.161558  1130.161558  1031.127179  1041.694950\n",
       "\n",
       "[91 rows x 4 columns]"
      ]
     },
     "execution_count": 79,
     "metadata": {},
     "output_type": "execute_result"
    }
   ],
   "source": [
    "traded_volume = 13722\n",
    "\n",
    "volume_bars = continuous_contract_relative_method.groupby(bar(np.cumsum(continuous_contract_relative_method['volume']), traded_volume)).agg({'close': 'ohlc', 'volume': 'sum'})\n",
    "volume_bars_price = volume_bars.loc[:,'close']\n",
    "volume_bars_price"
   ]
  },
  {
   "cell_type": "code",
   "execution_count": 80,
   "id": "81335edb",
   "metadata": {},
   "outputs": [
    {
     "data": {
      "image/png": "[encoded data removed]",
      "text/plain": [
       "<Figure size 1200x600 with 1 Axes>"
      ]
     },
     "metadata": {},
     "output_type": "display_data"
    }
   ],
   "source": [
    "# Alternative: Plot using the full volume bars DataFrame\n",
    "plt.figure(figsize=(12, 6))\n",
    "volume_bars_price.close.plot(title='Weekly Volume Bars Close Price')\n",
    "plt.show()"
   ]
  },
  {
   "cell_type": "code",
   "execution_count": 81,
   "id": "c5ad3dce",
   "metadata": {},
   "outputs": [
    {
     "data": {
      "image/png": "[encoded data removed]",
      "text/plain": [
       "<Figure size 640x480 with 1 Axes>"
      ]
     },
     "metadata": {},
     "output_type": "display_data"
    }
   ],
   "source": [
    "volume_bars = np.log(volume_bars_price.close/volume_bars_price.close.shift(1)).dropna()\n",
    "\n",
    "bin_len = 0.1\n",
    "plt.hist(volume_bars, bins=np.arange(min(volume_bars),max(volume_bars)+bin_len, bin_len))\n",
    "plt.show()"
   ]
  },
  {
   "cell_type": "code",
   "execution_count": 82,
   "id": "369f6302",
   "metadata": {},
   "outputs": [
    {
     "name": "stdout",
     "output_type": "stream",
     "text": [
      "Weekly Value Analysis:\n",
      "                   value                    \n",
      "                     sum          mean count\n",
      "date                                        \n",
      "2021-01-10  3.221743e+06  6.443487e+05     5\n",
      "2021-01-17  5.273608e+06  1.054722e+06     5\n",
      "2021-01-24  5.180253e+06  1.036051e+06     5\n",
      "2021-01-31  5.842923e+06  1.168585e+06     5\n",
      "2021-02-07  5.336160e+06  1.067232e+06     5\n",
      "...                  ...           ...   ...\n",
      "2022-09-04  1.403598e+07  2.807195e+06     5\n",
      "2022-09-11  1.080776e+07  2.161551e+06     5\n",
      "2022-09-18  1.090197e+07  2.180394e+06     5\n",
      "2022-09-25  1.383103e+07  2.766205e+06     5\n",
      "2022-10-02  1.056699e+07  2.641747e+06     4\n",
      "\n",
      "[91 rows x 3 columns]\n"
     ]
    }
   ],
   "source": [
    "# Using groupby similar to your existing code\n",
    "weekly_value = continuous_contract_relative_method.groupby(pd.Grouper(freq='W')).agg({\n",
    "    'value': ['sum', 'mean', 'count']\n",
    "})\n",
    "\n",
    "print(\"Weekly Value Analysis:\")\n",
    "print(weekly_value)"
   ]
  },
  {
   "cell_type": "code",
   "execution_count": 83,
   "id": "f62fed92",
   "metadata": {},
   "outputs": [
    {
     "name": "stdout",
     "output_type": "stream",
     "text": [
      "Average Weekly Value: 7,287,227\n",
      "Overall Average Weekly Value: 7,287,227\n"
     ]
    }
   ],
   "source": [
    "# Get the average of the weekly value sums\n",
    "avg_weekly_value_sum = weekly_value['value']['sum'].mean()\n",
    "\n",
    "print(f\"Average Weekly Value: {avg_weekly_value_sum:,.0f}\")\n",
    "\n",
    "# Or assign it to the variable you're using later\n",
    "overall_avg_weekly_value = weekly_value['value']['sum'].mean()\n",
    "print(f\"Overall Average Weekly Value: {overall_avg_weekly_value:,.0f}\")"
   ]
  },
  {
   "cell_type": "code",
   "execution_count": 84,
   "id": "d0a077c3",
   "metadata": {},
   "outputs": [
    {
     "data": {
      "application/vnd.microsoft.datawrangler.viewer.v0+json": {
       "columns": [
        {
         "name": "index",
         "rawType": "int64",
         "type": "integer"
        },
        {
         "name": "open",
         "rawType": "float64",
         "type": "float"
        },
        {
         "name": "high",
         "rawType": "float64",
         "type": "float"
        },
        {
         "name": "low",
         "rawType": "float64",
         "type": "float"
        },
        {
         "name": "close",
         "rawType": "float64",
         "type": "float"
        }
       ],
       "ref": "807429a7-bea1-4101-9d6e-012d6739637f",
       "rows": [
        [
         "0",
         "255.44",
         "273.3",
         "247.38",
         "262.66"
        ],
        [
         "7287227",
         "260.3",
         "261.3",
         "249.92",
         "261.3"
        ],
        [
         "14574454",
         "258.5",
         "259.16",
         "245.8930081967213",
         "247.43605737704917"
        ],
        [
         "21861681",
         "247.55787704918032",
         "256.61313934426227",
         "247.55787704918032",
         "255.80100819672128"
        ],
        [
         "29148908",
         "252.71490983606557",
         "252.71490983606557",
         "242.96933606557377",
         "243.31449180327868"
        ],
        [
         "36436135",
         "243.21297540983608",
         "247.13352981073666",
         "238.9695901639344",
         "247.13352981073666"
        ],
        [
         "43723362",
         "250.6411521212974",
         "253.20520351790614",
         "250.00526737493843",
         "253.08212905086893"
        ],
        [
         "51010589",
         "252.67188082741154",
         "256.63705379643676",
         "252.20009537043552",
         "256.20542011633705"
        ],
        [
         "58297816",
         "255.42436869520418",
         "264.9408636421648",
         "255.42436869520418",
         "263.9748263581321"
        ],
        [
         "65585043",
         "264.26258214486523",
         "277.8693200603899",
         "264.26258214486523",
         "277.8693200603899"
        ],
        [
         "72872270",
         "279.6329186969356",
         "290.00944090730883",
         "277.6232365297091",
         "288.7175023712347"
        ],
        [
         "80159497",
         "293.39308945416957",
         "293.39308945416957",
         "276.4748467198654",
         "285.4363886288241"
        ],
        [
         "87446724",
         "285.08777029369304",
         "293.87679721602854",
         "285.08777029369304",
         "291.3740729857736"
        ],
        [
         "94733951",
         "293.7954078101665",
         "303.70456797385873",
         "293.7954078101665",
         "303.5824838650658"
        ],
        [
         "102021178",
         "305.678261066011",
         "321.8951001840041",
         "305.678261066011",
         "319.90105974038636"
        ],
        [
         "109308405",
         "323.9094879790873",
         "330.0820884972657",
         "312.76810365603046",
         "312.76810365603046"
        ],
        [
         "116595632",
         "323.5462114528604",
         "323.5462114528604",
         "310.73832817640147",
         "310.73832817640147"
        ],
        [
         "123882859",
         "308.6273616775874",
         "338.33283011524935",
         "308.6273616775874",
         "336.91424382545796"
        ],
        [
         "131170086",
         "336.36707482796703",
         "347.9386858489797",
         "336.36707482796703",
         "343.2168200558169"
        ],
        [
         "138457313",
         "348.7898376228546",
         "349.31674110191994",
         "330.30768481871513",
         "333.06379532459556"
        ],
        [
         "145744540",
         "340.6633647341924",
         "358.9225968356503",
         "340.6633647341924",
         "354.7499980515003"
        ],
        [
         "153031767",
         "361.2363127491363",
         "383.4440304486644",
         "361.2363127491363",
         "383.4440304486644"
        ],
        [
         "160318994",
         "401.4198233149788",
         "454.93191957047577",
         "401.4198233149788",
         "454.93191957047577"
        ],
        [
         "167606221",
         "411.32727350862405",
         "440.10040730453983",
         "411.32727350862405",
         "429.0459868289956"
        ],
        [
         "174893448",
         "415.4207708940224",
         "426.2972132223754",
         "411.8414326005098",
         "426.2972132223754"
        ],
        [
         "182180675",
         "447.2590838915649",
         "521.3968698715568",
         "434.5633093919237",
         "518.3474267681066"
        ],
        [
         "189467902",
         "552.9528159104239",
         "648.4119652120977",
         "552.9528159104239",
         "648.4119652120977"
        ],
        [
         "196755129",
         "592.9622814386023",
         "592.9622814386023",
         "492.23415766071383",
         "492.23415766071383"
        ],
        [
         "204042356",
         "491.67444974932107",
         "532.417325644152",
         "491.67444974932107",
         "531.7225158231126"
        ],
        [
         "211329583",
         "500.05076814740573",
         "510.53081628141473",
         "492.15695656948725",
         "507.71297645164435"
        ],
        [
         "218616810",
         "514.1978681146775",
         "514.1978681146775",
         "436.1861654302122",
         "436.1861654302122"
        ],
        [
         "225904037",
         "400.4710930813111",
         "444.1829117964328",
         "400.4710930813111",
         "425.4306347698177"
        ],
        [
         "233191264",
         "404.36694387511085",
         "509.23802792256276",
         "404.36694387511085",
         "509.23802792256276"
        ],
        [
         "240478491",
         "482.1534767101653",
         "487.6710452985134",
         "456.6906432923162",
         "487.6710452985134"
        ],
        [
         "247765718",
         "490.8026382810893",
         "586.7189615893966",
         "470.31680085340537",
         "586.7189615893966"
        ],
        [
         "255052945",
         "578.5924527067197",
         "693.5619562542685",
         "578.5924527067197",
         "693.5619562542685"
        ],
        [
         "262340172",
         "712.8296466696476",
         "902.1173846765157",
         "712.8296466696476",
         "861.522289612821"
        ],
        [
         "269627399",
         "952.5803833834611",
         "952.5803833834611",
         "555.0742611015532",
         "727.2047646704533"
        ],
        [
         "276914626",
         "774.1933802337749",
         "774.1933802337749",
         "646.0039618707895",
         "646.0039618707895"
        ],
        [
         "284201853",
         "613.2685596950088",
         "649.4721692099869",
         "590.9601550680413",
         "590.9601550680413"
        ],
        [
         "291489080",
         "590.9825305992618",
         "590.9825305992618",
         "569.3453919089133",
         "569.3453919089133"
        ],
        [
         "298776307",
         "590.9825305992618",
         "657.1693519498834",
         "590.9825305992618",
         "657.1693519498834"
        ],
        [
         "306063534",
         "630.0725836417014",
         "630.0725836417014",
         "622.0397679334953",
         "622.0397679334953"
        ],
        [
         "313350761",
         "599.0600973699092",
         "599.0600973699092",
         "564.4927417706159",
         "582.1906754962193"
        ],
        [
         "320637988",
         "597.0118319582332",
         "597.0118319582332",
         "551.1444952675598",
         "551.1444952675598"
        ],
        [
         "327925215",
         "543.319661110596",
         "559.107414733176",
         "520.6046278372921",
         "520.6046278372921"
        ],
        [
         "335212442",
         "531.0070544224322",
         "531.6284383113676",
         "522.3076799773372",
         "531.6284383113676"
        ],
        [
         "342499669",
         "575.1943531911694",
         "856.7963259694333",
         "575.1943531911694",
         "856.7963259694333"
        ],
        [
         "349786896",
         "660.5080597201841",
         "931.7606724185514",
         "660.5080597201841",
         "931.7606724185514"
        ],
        [
         "357074123",
         "973.968614626345",
         "973.968614626345",
         "973.968614626345",
         "973.968614626345"
        ]
       ],
       "shape": {
        "columns": 4,
        "rows": 91
       }
      },
      "text/html": [
       "<div>\n",
       "<style scoped>\n",
       "    .dataframe tbody tr th:only-of-type {\n",
       "        vertical-align: middle;\n",
       "    }\n",
       "\n",
       "    .dataframe tbody tr th {\n",
       "        vertical-align: top;\n",
       "    }\n",
       "\n",
       "    .dataframe thead th {\n",
       "        text-align: right;\n",
       "    }\n",
       "</style>\n",
       "<table border=\"1\" class=\"dataframe\">\n",
       "  <thead>\n",
       "    <tr style=\"text-align: right;\">\n",
       "      <th></th>\n",
       "      <th>open</th>\n",
       "      <th>high</th>\n",
       "      <th>low</th>\n",
       "      <th>close</th>\n",
       "    </tr>\n",
       "  </thead>\n",
       "  <tbody>\n",
       "    <tr>\n",
       "      <th>0</th>\n",
       "      <td>255.440000</td>\n",
       "      <td>273.300000</td>\n",
       "      <td>247.380000</td>\n",
       "      <td>262.660000</td>\n",
       "    </tr>\n",
       "    <tr>\n",
       "      <th>7287227</th>\n",
       "      <td>260.300000</td>\n",
       "      <td>261.300000</td>\n",
       "      <td>249.920000</td>\n",
       "      <td>261.300000</td>\n",
       "    </tr>\n",
       "    <tr>\n",
       "      <th>14574454</th>\n",
       "      <td>258.500000</td>\n",
       "      <td>259.160000</td>\n",
       "      <td>245.893008</td>\n",
       "      <td>247.436057</td>\n",
       "    </tr>\n",
       "    <tr>\n",
       "      <th>21861681</th>\n",
       "      <td>247.557877</td>\n",
       "      <td>256.613139</td>\n",
       "      <td>247.557877</td>\n",
       "      <td>255.801008</td>\n",
       "    </tr>\n",
       "    <tr>\n",
       "      <th>29148908</th>\n",
       "      <td>252.714910</td>\n",
       "      <td>252.714910</td>\n",
       "      <td>242.969336</td>\n",
       "      <td>243.314492</td>\n",
       "    </tr>\n",
       "    <tr>\n",
       "      <th>...</th>\n",
       "      <td>...</td>\n",
       "      <td>...</td>\n",
       "      <td>...</td>\n",
       "      <td>...</td>\n",
       "    </tr>\n",
       "    <tr>\n",
       "      <th>626701522</th>\n",
       "      <td>1232.222628</td>\n",
       "      <td>1280.752295</td>\n",
       "      <td>1174.433336</td>\n",
       "      <td>1280.752295</td>\n",
       "    </tr>\n",
       "    <tr>\n",
       "      <th>633988749</th>\n",
       "      <td>1277.725604</td>\n",
       "      <td>1277.725604</td>\n",
       "      <td>1095.482852</td>\n",
       "      <td>1095.482852</td>\n",
       "    </tr>\n",
       "    <tr>\n",
       "      <th>641275976</th>\n",
       "      <td>1092.558760</td>\n",
       "      <td>1143.653421</td>\n",
       "      <td>1092.558760</td>\n",
       "      <td>1143.653421</td>\n",
       "    </tr>\n",
       "    <tr>\n",
       "      <th>648563203</th>\n",
       "      <td>1130.161558</td>\n",
       "      <td>1130.161558</td>\n",
       "      <td>1031.127179</td>\n",
       "      <td>1031.127179</td>\n",
       "    </tr>\n",
       "    <tr>\n",
       "      <th>655850430</th>\n",
       "      <td>1065.985433</td>\n",
       "      <td>1126.108869</td>\n",
       "      <td>1041.694950</td>\n",
       "      <td>1041.694950</td>\n",
       "    </tr>\n",
       "  </tbody>\n",
       "</table>\n",
       "<p>91 rows × 4 columns</p>\n",
       "</div>"
      ],
      "text/plain": [
       "                  open         high          low        close\n",
       "0           255.440000   273.300000   247.380000   262.660000\n",
       "7287227     260.300000   261.300000   249.920000   261.300000\n",
       "14574454    258.500000   259.160000   245.893008   247.436057\n",
       "21861681    247.557877   256.613139   247.557877   255.801008\n",
       "29148908    252.714910   252.714910   242.969336   243.314492\n",
       "...                ...          ...          ...          ...\n",
       "626701522  1232.222628  1280.752295  1174.433336  1280.752295\n",
       "633988749  1277.725604  1277.725604  1095.482852  1095.482852\n",
       "641275976  1092.558760  1143.653421  1092.558760  1143.653421\n",
       "648563203  1130.161558  1130.161558  1031.127179  1031.127179\n",
       "655850430  1065.985433  1126.108869  1041.694950  1041.694950\n",
       "\n",
       "[91 rows x 4 columns]"
      ]
     },
     "execution_count": 84,
     "metadata": {},
     "output_type": "execute_result"
    }
   ],
   "source": [
    "market_value = 7287227\n",
    "\n",
    "dollar_bars = continuous_contract_relative_method.groupby(bar(np.cumsum(continuous_contract_relative_method['value']), market_value)).agg({'close': 'ohlc', 'volume':'sum'})\n",
    "dollar_bars_price = dollar_bars.loc[:,'close']\n",
    "dollar_bars_price"
   ]
  },
  {
   "cell_type": "code",
   "execution_count": 85,
   "id": "4617a7ae",
   "metadata": {},
   "outputs": [
    {
     "data": {
      "image/png": "[encoded data removed]",
      "text/plain": [
       "<Figure size 1200x600 with 1 Axes>"
      ]
     },
     "metadata": {},
     "output_type": "display_data"
    }
   ],
   "source": [
    "# Alternative: Plot using the full dollar bars DataFrame\n",
    "plt.figure(figsize=(12, 6))\n",
    "dollar_bars_price.close.plot(title='Weekly Dollar Bars Close Price')\n",
    "plt.show()"
   ]
  },
  {
   "cell_type": "code",
   "execution_count": 86,
   "id": "faff1536",
   "metadata": {},
   "outputs": [
    {
     "data": {
      "image/png": "[encoded data removed]",
      "text/plain": [
       "<Figure size 640x480 with 1 Axes>"
      ]
     },
     "metadata": {},
     "output_type": "display_data"
    }
   ],
   "source": [
    "dollar_bars = np.log(dollar_bars_price.close/dollar_bars_price.close.shift(1)).dropna()\n",
    "\n",
    "bin_len = 0.1\n",
    "plt.hist(dollar_bars, bins=np.arange(min(dollar_bars),max(dollar_bars)+bin_len, bin_len))\n",
    "plt.show()"
   ]
  },
  {
   "cell_type": "code",
   "execution_count": 87,
   "id": "49764c78",
   "metadata": {},
   "outputs": [
    {
     "name": "stdout",
     "output_type": "stream",
     "text": [
      "Serial Correlation (Lag-1) of Tick Bars Returns: -0.0467\n",
      "Serial Correlation (Lag-1): -0.0467\n",
      "Serial Correlation (Lag-2): -0.2243\n",
      "Serial Correlation (Lag-3): 0.0172\n",
      "Serial Correlation (Lag-4): -0.0219\n",
      "Serial Correlation (Lag-5): -0.0433\n"
     ]
    },
    {
     "data": {
      "image/png": "[encoded data removed]",
      "text/plain": [
       "<Figure size 1000x600 with 1 Axes>"
      ]
     },
     "metadata": {},
     "output_type": "display_data"
    }
   ],
   "source": [
    "# Calculate serial correlation (lag-1 autocorrelation) of tick_bars returns\n",
    "serial_correlation = tick_bars.corr(tick_bars.shift(1))\n",
    "\n",
    "print(f\"Serial Correlation (Lag-1) of Tick Bars Returns: {serial_correlation:.4f}\")\n",
    "\n",
    "# You can also calculate multiple lags\n",
    "lags = [1, 2, 3, 4, 5]\n",
    "serial_correlations = {}\n",
    "\n",
    "for lag in lags:\n",
    "    corr = tick_bars.corr(tick_bars.shift(lag))\n",
    "    serial_correlations[f'Lag-{lag}'] = corr\n",
    "    print(f\"Serial Correlation (Lag-{lag}): {corr:.4f}\")\n",
    "\n",
    "# Plot the autocorrelation function\n",
    "plt.figure(figsize=(10, 6))\n",
    "plt.bar(range(1, len(lags)+1), [serial_correlations[f'Lag-{lag}'] for lag in lags])\n",
    "plt.xlabel('Lag')\n",
    "plt.ylabel('Serial Correlation')\n",
    "plt.title('Serial Correlation of Tick Bars Returns')\n",
    "plt.grid(True, alpha=0.3)\n",
    "plt.show()"
   ]
  },
  {
   "cell_type": "code",
   "execution_count": 90,
   "id": "7b6e6958",
   "metadata": {},
   "outputs": [
    {
     "name": "stdout",
     "output_type": "stream",
     "text": [
      "Serial Correlation (Lag-1) of Volume Bars Returns: -0.1098\n",
      "Serial Correlation (Lag-1): -0.1098\n",
      "Serial Correlation (Lag-2): -0.1383\n",
      "Serial Correlation (Lag-3): -0.0842\n",
      "Serial Correlation (Lag-4): 0.0096\n",
      "Serial Correlation (Lag-5): -0.0555\n"
     ]
    },
    {
     "data": {
      "image/png": "[encoded data removed]",
      "text/plain": [
       "<Figure size 1000x600 with 1 Axes>"
      ]
     },
     "metadata": {},
     "output_type": "display_data"
    }
   ],
   "source": [
    "# Calculate serial correlation (lag-1 autocorrelation) of volume_bars returns\n",
    "serial_correlation = volume_bars.corr(volume_bars.shift(1))\n",
    "\n",
    "print(f\"Serial Correlation (Lag-1) of Volume Bars Returns: {serial_correlation:.4f}\")\n",
    "\n",
    "# You can also calculate multiple lags\n",
    "lags = [1, 2, 3, 4, 5]\n",
    "serial_correlations = {}\n",
    "\n",
    "for lag in lags:\n",
    "    corr = volume_bars.corr(volume_bars.shift(lag))\n",
    "    serial_correlations[f'Lag-{lag}'] = corr\n",
    "    print(f\"Serial Correlation (Lag-{lag}): {corr:.4f}\")\n",
    "\n",
    "# Plot the autocorrelation function\n",
    "plt.figure(figsize=(10, 6))\n",
    "plt.bar(range(1, len(lags)+1), [serial_correlations[f'Lag-{lag}'] for lag in lags])\n",
    "plt.xlabel('Lag')\n",
    "plt.ylabel('Serial Correlation')\n",
    "plt.title('Serial Correlation of Volume Bars Returns')\n",
    "plt.grid(True, alpha=0.3)\n",
    "plt.show()"
   ]
  },
  {
   "cell_type": "code",
   "execution_count": 89,
   "id": "21e8dae8",
   "metadata": {},
   "outputs": [
    {
     "name": "stdout",
     "output_type": "stream",
     "text": [
      "Serial Correlation (Lag-1) of Dollar Bars Returns: 0.0607\n",
      "Serial Correlation (Lag-1): 0.0607\n",
      "Serial Correlation (Lag-2): -0.0436\n",
      "Serial Correlation (Lag-3): -0.1346\n",
      "Serial Correlation (Lag-4): -0.0446\n",
      "Serial Correlation (Lag-5): -0.2270\n"
     ]
    },
    {
     "data": {
      "image/png": "[encoded data removed]",
      "text/plain": [
       "<Figure size 1000x600 with 1 Axes>"
      ]
     },
     "metadata": {},
     "output_type": "display_data"
    }
   ],
   "source": [
    "# Calculate serial correlation (lag-1 autocorrelation) of dollar_bars returns\n",
    "serial_correlation = dollar_bars.corr(dollar_bars.shift(1))\n",
    "\n",
    "print(f\"Serial Correlation (Lag-1) of Dollar Bars Returns: {serial_correlation:.4f}\")\n",
    "\n",
    "# You can also calculate multiple lags\n",
    "lags = [1, 2, 3, 4, 5]\n",
    "serial_correlations = {}\n",
    "\n",
    "for lag in lags:\n",
    "    corr = dollar_bars.corr(dollar_bars.shift(lag))\n",
    "    serial_correlations[f'Lag-{lag}'] = corr\n",
    "    print(f\"Serial Correlation (Lag-{lag}): {corr:.4f}\")\n",
    "\n",
    "# Plot the autocorrelation function\n",
    "plt.figure(figsize=(10, 6))\n",
    "plt.bar(range(1, len(lags)+1), [serial_correlations[f'Lag-{lag}'] for lag in lags])\n",
    "plt.xlabel('Lag')\n",
    "plt.ylabel('Serial Correlation')\n",
    "plt.title('Serial Correlation of Dollar Bars Returns')\n",
    "plt.grid(True, alpha=0.3)\n",
    "plt.show()"
   ]
  },
  {
   "cell_type": "code",
   "execution_count": 91,
   "id": "c06740c3",
   "metadata": {},
   "outputs": [
    {
     "name": "stdout",
     "output_type": "stream",
     "text": [
      "Jarque-Bera Test Results for Tick Bars:\n",
      "Test Statistic: 91.8105\n",
      "P-value: 0.0000\n",
      "Alpha (significance level): 0.05\n",
      "Result: Reject null hypothesis - Data is NOT normally distributed\n",
      "\n",
      "Descriptive Statistics:\n",
      "Skewness: 0.7411\n",
      "Kurtosis: 4.7208\n",
      "Mean: 0.0155\n",
      "Standard Deviation: 0.1232\n"
     ]
    }
   ],
   "source": [
    "from scipy import stats\n",
    "\n",
    "# Jarque-Bera normality test for tick_bars\n",
    "jb_stat, jb_pvalue = stats.jarque_bera(tick_bars)\n",
    "\n",
    "print(f\"Jarque-Bera Test Results for Tick Bars:\")\n",
    "print(f\"Test Statistic: {jb_stat:.4f}\")\n",
    "print(f\"P-value: {jb_pvalue:.4f}\")\n",
    "print(f\"Alpha (significance level): 0.05\")\n",
    "\n",
    "if jb_pvalue < 0.05:\n",
    "    print(\"Result: Reject null hypothesis - Data is NOT normally distributed\")\n",
    "else:\n",
    "    print(\"Result: Fail to reject null hypothesis - Data appears normally distributed\")\n",
    "\n",
    "# Additional statistics\n",
    "print(f\"\\nDescriptive Statistics:\")\n",
    "print(f\"Skewness: {stats.skew(tick_bars):.4f}\")\n",
    "print(f\"Kurtosis: {stats.kurtosis(tick_bars):.4f}\")\n",
    "print(f\"Mean: {tick_bars.mean():.4f}\")\n",
    "print(f\"Standard Deviation: {tick_bars.std():.4f}\")"
   ]
  },
  {
   "cell_type": "code",
   "execution_count": 92,
   "id": "97e04d32",
   "metadata": {},
   "outputs": [
    {
     "name": "stdout",
     "output_type": "stream",
     "text": [
      "Jarque-Bera Normality Test Results:\n",
      "==================================================\n",
      "\n",
      "Tick Bars:\n",
      "  JB Statistic: 91.8105\n",
      "  P-value: 0.0000\n",
      "  Normal: No\n",
      "  Skewness: 0.7411\n",
      "  Kurtosis: 4.7208\n",
      "\n",
      "Volume Bars:\n",
      "  JB Statistic: 122.5846\n",
      "  P-value: 0.0000\n",
      "  Normal: No\n",
      "  Skewness: -0.1052\n",
      "  Kurtosis: 5.7136\n",
      "\n",
      "Dollar Bars:\n",
      "  JB Statistic: 27.6523\n",
      "  P-value: 0.0000\n",
      "  Normal: No\n",
      "  Skewness: 0.4402\n",
      "  Kurtosis: 2.5688\n"
     ]
    }
   ],
   "source": [
    "# Run Jarque-Bera test on all bar types\n",
    "bar_types = {\n",
    "    'Tick Bars': tick_bars,\n",
    "    'Volume Bars': volume_bars, \n",
    "    'Dollar Bars': dollar_bars\n",
    "}\n",
    "\n",
    "print(\"Jarque-Bera Normality Test Results:\")\n",
    "print(\"=\"*50)\n",
    "\n",
    "for name, data in bar_types.items():\n",
    "    jb_stat, jb_pvalue = stats.jarque_bera(data)\n",
    "    print(f\"\\n{name}:\")\n",
    "    print(f\"  JB Statistic: {jb_stat:.4f}\")\n",
    "    print(f\"  P-value: {jb_pvalue:.4f}\")\n",
    "    print(f\"  Normal: {'No' if jb_pvalue < 0.05 else 'Yes'}\")\n",
    "    print(f\"  Skewness: {stats.skew(data):.4f}\")\n",
    "    print(f\"  Kurtosis: {stats.kurtosis(data):.4f}\")"
   ]
  }
 ],
 "metadata": {
  "kernelspec": {
   "display_name": "MlFinLab",
   "language": "python",
   "name": "python3"
  },
  "language_info": {
   "codemirror_mode": {
    "name": "ipython",
    "version": 3
   },
   "file_extension": ".py",
   "mimetype": "text/x-python",
   "name": "python",
   "nbconvert_exporter": "python",
   "pygments_lexer": "ipython3",
   "version": "3.11.13"
  }
 },
 "nbformat": 4,
 "nbformat_minor": 5
}
