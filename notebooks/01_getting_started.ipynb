{
 "cells": [
  {
   "cell_type": "markdown",
   "id": "c4447ef9",
   "metadata": {},
   "source": [
    "# Getting Started with MLFinLab\n",
    "\n",
    "This notebook provides a basic introduction to using MLFinLab for financial machine learning.\n",
    "\n",
    "## Topics Covered:\n",
    "- Basic imports and setup\n",
    "- Loading financial data\n",
    "- Creating bars (dollar, volume, tick)\n",
    "- Basic feature engineering\n",
    "- Visualization examples"
   ]
  },
  {
   "cell_type": "markdown",
   "id": "4c23246f",
   "metadata": {},
   "source": [
    "## 1. Import Libraries"
   ]
  },
  {
   "cell_type": "code",
   "execution_count": 1,
   "id": "8922bcd8",
   "metadata": {},
   "outputs": [
    {
     "name": "stdout",
     "output_type": "stream",
     "text": [
      "Libraries imported successfully!\n"
     ]
    }
   ],
   "source": [
    "# Core libraries\n",
    "import pandas as pd\n",
    "import numpy as np\n",
    "import matplotlib.pyplot as plt\n",
    "import seaborn as sns\n",
    "\n",
    "# MLFinLab imports\n",
    "# Uncomment and modify based on your specific needs:\n",
    "# from mlfinlab.data_structures import standard_data_structures\n",
    "# from mlfinlab.features import fracdiff\n",
    "# from mlfinlab.labeling import triple_barrier\n",
    "# from mlfinlab.util import multiprocess\n",
    "\n",
    "# Financial data\n",
    "import yfinance as yf\n",
    "\n",
    "# Settings\n",
    "plt.style.use('seaborn-v0_8')\n",
    "pd.set_option('display.max_columns', None)\n",
    "pd.set_option('display.width', None)\n",
    "\n",
    "print(\"Libraries imported successfully!\")"
   ]
  },
  {
   "cell_type": "markdown",
   "id": "ba6bacf5",
   "metadata": {},
   "source": [
    "## 2. Load Sample Data"
   ]
  },
  {
   "cell_type": "code",
   "execution_count": 6,
   "id": "094a8be7",
   "metadata": {},
   "outputs": [
    {
     "name": "stdout",
     "output_type": "stream",
     "text": [
      "Checking yfinance version...\n",
      "yfinance version: 0.2.28\n",
      "\n",
      "Trying to update yfinance...\n",
      "✅ yfinance updated successfully\n",
      "\n",
      "--- Trying with requests session ---\n",
      "Trying to download AAPL with custom session...\n",
      "✅ yfinance updated successfully\n",
      "\n",
      "--- Trying with requests session ---\n",
      "Trying to download AAPL with custom session...\n"
     ]
    },
    {
     "name": "stderr",
     "output_type": "stream",
     "text": [
      "Failed to get ticker 'AAPL' reason: Expecting value: line 1 column 1 (char 0)\n",
      "AAPL: No timezone found, symbol may be delisted\n",
      "AAPL: No timezone found, symbol may be delisted\n"
     ]
    },
    {
     "name": "stdout",
     "output_type": "stream",
     "text": [
      "❌ Session approach failed: No data returned\n",
      "\n",
      "--- Creating sample data for demonstration ---\n",
      "Since yfinance is not working, creating synthetic stock data...\n",
      "✅ Created sample dataset with 1043 rows\n",
      "Date range: 2020-01-01 to 2023-12-29\n",
      "Price range: $81.29 to $445.22\n",
      "\n",
      "First few rows of sample data:\n"
     ]
    },
    {
     "data": {
      "application/vnd.microsoft.datawrangler.viewer.v0+json": {
       "columns": [
        {
         "name": "index",
         "rawType": "datetime64[ns]",
         "type": "datetime"
        },
        {
         "name": "Open",
         "rawType": "float64",
         "type": "float"
        },
        {
         "name": "High",
         "rawType": "float64",
         "type": "float"
        },
        {
         "name": "Low",
         "rawType": "float64",
         "type": "float"
        },
        {
         "name": "Close",
         "rawType": "float64",
         "type": "float"
        },
        {
         "name": "Adj Close",
         "rawType": "float64",
         "type": "float"
        },
        {
         "name": "Volume",
         "rawType": "int32",
         "type": "integer"
        }
       ],
       "ref": "f394ccd5-1d1f-4648-bcfc-9a4c270dc7ad",
       "rows": [
        [
         "2020-01-01 00:00:00",
         "100.0",
         "100.50814019764731",
         "99.58850685543781",
         "100.0",
         "100.0",
         "980929"
        ],
        [
         "2020-01-02 00:00:00",
         "99.75791302437564",
         "99.97099084194376",
         "99.73439476724144",
         "99.82347139765763",
         "99.82347139765763",
         "917306"
        ],
        [
         "2020-01-03 00:00:00",
         "99.34120108834271",
         "101.67514688995364",
         "101.17835758545158",
         "101.21638523420899",
         "101.21638523420899",
         "1555551"
        ],
        [
         "2020-01-06 00:00:00",
         "101.12762936743887",
         "105.91709961713194",
         "102.59332664592351",
         "104.40071315283113",
         "104.40071315283113",
         "1385639"
        ],
        [
         "2020-01-07 00:00:00",
         "104.65728085328718",
         "104.35606576203648",
         "102.46122036899023",
         "104.0161982798188",
         "104.0161982798188",
         "454664"
        ]
       ],
       "shape": {
        "columns": 6,
        "rows": 5
       }
      },
      "text/html": [
       "<div>\n",
       "<style scoped>\n",
       "    .dataframe tbody tr th:only-of-type {\n",
       "        vertical-align: middle;\n",
       "    }\n",
       "\n",
       "    .dataframe tbody tr th {\n",
       "        vertical-align: top;\n",
       "    }\n",
       "\n",
       "    .dataframe thead th {\n",
       "        text-align: right;\n",
       "    }\n",
       "</style>\n",
       "<table border=\"1\" class=\"dataframe\">\n",
       "  <thead>\n",
       "    <tr style=\"text-align: right;\">\n",
       "      <th></th>\n",
       "      <th>Open</th>\n",
       "      <th>High</th>\n",
       "      <th>Low</th>\n",
       "      <th>Close</th>\n",
       "      <th>Adj Close</th>\n",
       "      <th>Volume</th>\n",
       "    </tr>\n",
       "  </thead>\n",
       "  <tbody>\n",
       "    <tr>\n",
       "      <th>2020-01-01</th>\n",
       "      <td>100.000000</td>\n",
       "      <td>100.508140</td>\n",
       "      <td>99.588507</td>\n",
       "      <td>100.000000</td>\n",
       "      <td>100.000000</td>\n",
       "      <td>980929</td>\n",
       "    </tr>\n",
       "    <tr>\n",
       "      <th>2020-01-02</th>\n",
       "      <td>99.757913</td>\n",
       "      <td>99.970991</td>\n",
       "      <td>99.734395</td>\n",
       "      <td>99.823471</td>\n",
       "      <td>99.823471</td>\n",
       "      <td>917306</td>\n",
       "    </tr>\n",
       "    <tr>\n",
       "      <th>2020-01-03</th>\n",
       "      <td>99.341201</td>\n",
       "      <td>101.675147</td>\n",
       "      <td>101.178358</td>\n",
       "      <td>101.216385</td>\n",
       "      <td>101.216385</td>\n",
       "      <td>1555551</td>\n",
       "    </tr>\n",
       "    <tr>\n",
       "      <th>2020-01-06</th>\n",
       "      <td>101.127629</td>\n",
       "      <td>105.917100</td>\n",
       "      <td>102.593327</td>\n",
       "      <td>104.400713</td>\n",
       "      <td>104.400713</td>\n",
       "      <td>1385639</td>\n",
       "    </tr>\n",
       "    <tr>\n",
       "      <th>2020-01-07</th>\n",
       "      <td>104.657281</td>\n",
       "      <td>104.356066</td>\n",
       "      <td>102.461220</td>\n",
       "      <td>104.016198</td>\n",
       "      <td>104.016198</td>\n",
       "      <td>454664</td>\n",
       "    </tr>\n",
       "  </tbody>\n",
       "</table>\n",
       "</div>"
      ],
      "text/plain": [
       "                  Open        High         Low       Close   Adj Close   \n",
       "2020-01-01  100.000000  100.508140   99.588507  100.000000  100.000000  \\\n",
       "2020-01-02   99.757913   99.970991   99.734395   99.823471   99.823471   \n",
       "2020-01-03   99.341201  101.675147  101.178358  101.216385  101.216385   \n",
       "2020-01-06  101.127629  105.917100  102.593327  104.400713  104.400713   \n",
       "2020-01-07  104.657281  104.356066  102.461220  104.016198  104.016198   \n",
       "\n",
       "             Volume  \n",
       "2020-01-01   980929  \n",
       "2020-01-02   917306  \n",
       "2020-01-03  1555551  \n",
       "2020-01-06  1385639  \n",
       "2020-01-07   454664  "
      ]
     },
     "metadata": {},
     "output_type": "display_data"
    }
   ],
   "source": [
    "# Let's first check the yfinance version and try to fix the issue\n",
    "print(\"Checking yfinance version...\")\n",
    "print(f\"yfinance version: {yf.__version__}\")\n",
    "\n",
    "# Try updating yfinance first\n",
    "import subprocess\n",
    "import sys\n",
    "\n",
    "try:\n",
    "    print(\"\\nTrying to update yfinance...\")\n",
    "    result = subprocess.run([sys.executable, \"-m\", \"pip\", \"install\", \"--upgrade\", \"yfinance\"], \n",
    "                          capture_output=True, text=True, timeout=30)\n",
    "    if result.returncode == 0:\n",
    "        print(\"✅ yfinance updated successfully\")\n",
    "    else:\n",
    "        print(f\"⚠️ Update had issues: {result.stderr}\")\n",
    "except Exception as e:\n",
    "    print(f\"⚠️ Could not update yfinance: {e}\")\n",
    "\n",
    "# Try a different approach with explicit session\n",
    "print(\"\\n--- Trying with requests session ---\")\n",
    "import requests\n",
    "\n",
    "# Create a session with headers\n",
    "session = requests.Session()\n",
    "session.headers.update({\n",
    "    'User-Agent': 'Mozilla/5.0 (Windows NT 10.0; Win64; x64) AppleWebKit/537.36 (KHTML, like Gecko) Chrome/91.0.4472.124 Safari/537.36'\n",
    "})\n",
    "\n",
    "try:\n",
    "    ticker = 'AAPL'\n",
    "    stock = yf.Ticker(ticker, session=session)\n",
    "    \n",
    "    print(f\"Trying to download {ticker} with custom session...\")\n",
    "    data = stock.history(start='2020-01-01', end='2023-12-31')\n",
    "    \n",
    "    if not data.empty:\n",
    "        print(f\"✅ Success! Downloaded {len(data)} rows of data for {ticker}\")\n",
    "        print(f\"Date range: {data.index.min().date()} to {data.index.max().date()}\")\n",
    "        successful_ticker = ticker\n",
    "        \n",
    "        # Display first few rows\n",
    "        print(f\"\\nFirst few rows of {ticker}:\")\n",
    "        display(data.head())\n",
    "        \n",
    "    else:\n",
    "        raise Exception(\"No data returned\")\n",
    "        \n",
    "except Exception as e:\n",
    "    print(f\"❌ Session approach failed: {e}\")\n",
    "    \n",
    "    # Fallback: Create sample data for demonstration\n",
    "    print(\"\\n--- Creating sample data for demonstration ---\")\n",
    "    print(\"Since yfinance is not working, creating synthetic stock data...\")\n",
    "    \n",
    "    import numpy as np\n",
    "    \n",
    "    # Generate sample stock data\n",
    "    np.random.seed(42)  # For reproducible results\n",
    "    dates = pd.date_range(start='2020-01-01', end='2023-12-31', freq='D')\n",
    "    dates = dates[dates.weekday < 5]  # Remove weekends\n",
    "    \n",
    "    # Generate realistic stock price data\n",
    "    n_days = len(dates)\n",
    "    price_start = 100\n",
    "    returns = np.random.normal(0.001, 0.02, n_days)  # Daily returns with slight upward drift\n",
    "    prices = [price_start]\n",
    "    \n",
    "    for i in range(1, n_days):\n",
    "        new_price = prices[-1] * (1 + returns[i])\n",
    "        prices.append(max(new_price, 0.01))  # Ensure price stays positive\n",
    "    \n",
    "    # Create volume data\n",
    "    base_volume = 1000000\n",
    "    volume = np.random.lognormal(np.log(base_volume), 0.5, n_days)\n",
    "    \n",
    "    # Create OHLC data\n",
    "    highs = [p * (1 + abs(np.random.normal(0, 0.01))) for p in prices]\n",
    "    lows = [p * (1 - abs(np.random.normal(0, 0.01))) for p in prices]\n",
    "    opens = [prices[0]] + [prices[i-1] * (1 + np.random.normal(0, 0.005)) for i in range(1, n_days)]\n",
    "    \n",
    "    # Create DataFrame\n",
    "    data = pd.DataFrame({\n",
    "        'Open': opens,\n",
    "        'High': highs,\n",
    "        'Low': lows,\n",
    "        'Close': prices,\n",
    "        'Adj Close': prices,\n",
    "        'Volume': volume.astype(int)\n",
    "    }, index=dates)\n",
    "    \n",
    "    successful_ticker = 'SAMPLE_STOCK'\n",
    "    \n",
    "    print(f\"✅ Created sample dataset with {len(data)} rows\")\n",
    "    print(f\"Date range: {data.index.min().date()} to {data.index.max().date()}\")\n",
    "    print(f\"Price range: ${data['Close'].min():.2f} to ${data['Close'].max():.2f}\")\n",
    "    \n",
    "    print(f\"\\nFirst few rows of sample data:\")\n",
    "    display(data.head())"
   ]
  },
  {
   "cell_type": "markdown",
   "id": "dae033f6",
   "metadata": {},
   "source": [
    "## 3. Basic Data Exploration"
   ]
  },
  {
   "cell_type": "code",
   "execution_count": null,
   "id": "caa1f824",
   "metadata": {},
   "outputs": [],
   "source": [
    "# Basic statistics\n",
    "print(\"Data Info:\")\n",
    "print(data.info())\n",
    "print(\"\\nBasic Statistics:\")\n",
    "data.describe()"
   ]
  },
  {
   "cell_type": "code",
   "execution_count": null,
   "id": "f9298a45",
   "metadata": {},
   "outputs": [],
   "source": [
    "# Visualize price data\n",
    "fig, axes = plt.subplots(2, 2, figsize=(15, 10))\n",
    "\n",
    "# Use the ticker name from our successful download\n",
    "ticker_name = successful_ticker if 'successful_ticker' in locals() else 'SAMPLE_STOCK'\n",
    "\n",
    "# Price chart\n",
    "axes[0, 0].plot(data.index, data['Close'], linewidth=1.5, color='blue')\n",
    "axes[0, 0].set_title(f'{ticker_name} Close Price')\n",
    "axes[0, 0].set_ylabel('Price ($)')\n",
    "axes[0, 0].grid(True, alpha=0.3)\n",
    "\n",
    "# Volume chart\n",
    "axes[0, 1].plot(data.index, data['Volume'], linewidth=1, color='orange', alpha=0.7)\n",
    "axes[0, 1].set_title(f'{ticker_name} Volume')\n",
    "axes[0, 1].set_ylabel('Volume')\n",
    "axes[0, 1].grid(True, alpha=0.3)\n",
    "\n",
    "# Returns\n",
    "returns = data['Close'].pct_change().dropna()\n",
    "axes[1, 0].plot(data.index[1:], returns, linewidth=0.8, color='green', alpha=0.8)\n",
    "axes[1, 0].set_title(f'{ticker_name} Daily Returns')\n",
    "axes[1, 0].set_ylabel('Returns')\n",
    "axes[1, 0].axhline(y=0, color='red', linestyle='--', alpha=0.5)\n",
    "axes[1, 0].grid(True, alpha=0.3)\n",
    "\n",
    "# Returns histogram\n",
    "axes[1, 1].hist(returns, bins=50, alpha=0.7, color='purple', edgecolor='black', linewidth=0.5)\n",
    "axes[1, 1].set_title('Returns Distribution')\n",
    "axes[1, 1].set_xlabel('Returns')\n",
    "axes[1, 1].set_ylabel('Frequency')\n",
    "axes[1, 1].axvline(x=returns.mean(), color='red', linestyle='--', \n",
    "                   label=f'Mean: {returns.mean():.4f}')\n",
    "axes[1, 1].legend()\n",
    "axes[1, 1].grid(True, alpha=0.3)\n",
    "\n",
    "plt.tight_layout()\n",
    "plt.show()\n",
    "\n",
    "# Print some basic statistics\n",
    "print(f\"\\n📊 {ticker_name} Statistics:\")\n",
    "print(f\"Total trading days: {len(data)}\")\n",
    "print(f\"Date range: {data.index.min().date()} to {data.index.max().date()}\")\n",
    "print(f\"Price range: ${data['Close'].min():.2f} - ${data['Close'].max():.2f}\")\n",
    "print(f\"Average daily volume: {data['Volume'].mean():,.0f}\")\n",
    "print(f\"Daily return statistics:\")\n",
    "print(f\"  Mean: {returns.mean():.4f} ({returns.mean()*252:.2%} annualized)\")\n",
    "print(f\"  Std Dev: {returns.std():.4f} ({returns.std()*np.sqrt(252):.2%} annualized)\")\n",
    "print(f\"  Min: {returns.min():.4f}\")\n",
    "print(f\"  Max: {returns.max():.4f}\")"
   ]
  },
  {
   "cell_type": "markdown",
   "id": "187754e0",
   "metadata": {},
   "source": [
    "## 4. MLFinLab Examples\n",
    "\n",
    "### Note: \n",
    "The following cells contain example code structure. Uncomment and modify based on your specific MLFinLab installation and data requirements."
   ]
  },
  {
   "cell_type": "code",
   "execution_count": null,
   "id": "3f4e7d6e",
   "metadata": {},
   "outputs": [],
   "source": [
    "# Example: Creating Dollar Bars\n",
    "# Uncomment when you have tick data and MLFinLab properly installed\n",
    "\n",
    "# dollar_bars = standard_data_structures.get_dollar_bars(\n",
    "#     file_path='path_to_your_tick_data.csv',\n",
    "#     threshold=1000000  # $1M threshold\n",
    "# )\n",
    "\n",
    "print(\"MLFinLab example code ready to use!\")"
   ]
  },
  {
   "cell_type": "code",
   "execution_count": null,
   "id": "b1ea2b78",
   "metadata": {},
   "outputs": [],
   "source": [
    "# Example: Fractional Differentiation\n",
    "# Uncomment when MLFinLab is installed\n",
    "\n",
    "# from mlfinlab.features.fracdiff import frac_diff_ffd\n",
    "# \n",
    "# # Apply fractional differentiation to make series stationary\n",
    "# close_prices = data['Close']\n",
    "# diff_series = frac_diff_ffd(close_prices, d=0.4, thres=0.01)\n",
    "# \n",
    "# plt.figure(figsize=(12, 6))\n",
    "# plt.subplot(2, 1, 1)\n",
    "# plt.plot(close_prices.index, close_prices)\n",
    "# plt.title('Original Price Series')\n",
    "# \n",
    "# plt.subplot(2, 1, 2)\n",
    "# plt.plot(diff_series.index, diff_series)\n",
    "# plt.title('Fractionally Differentiated Series')\n",
    "# plt.tight_layout()\n",
    "# plt.show()\n",
    "\n",
    "print(\"Fractional differentiation example ready!\")"
   ]
  },
  {
   "cell_type": "markdown",
   "id": "cc92b18d",
   "metadata": {},
   "source": [
    "## 5. Next Steps\n",
    "\n",
    "1. Install MLFinLab: `pip install mlfinlab`\n",
    "2. Get tick-level data for more advanced features\n",
    "3. Explore specific MLFinLab modules:\n",
    "   - Data structures (bars)\n",
    "   - Feature engineering\n",
    "   - Labeling methods\n",
    "   - Portfolio optimization\n",
    "   - Microstructural features\n",
    "\n",
    "## Assignments and Projects\n",
    "\n",
    "Use this space to document your course assignments and project progress."
   ]
  },
  {
   "cell_type": "code",
   "execution_count": null,
   "id": "89dd99ae",
   "metadata": {},
   "outputs": [],
   "source": [
    "# Your code here\n",
    "pass"
   ]
  }
 ],
 "metadata": {
  "kernelspec": {
   "display_name": "MlFinLab",
   "language": "python",
   "name": "python3"
  },
  "language_info": {
   "codemirror_mode": {
    "name": "ipython",
    "version": 3
   },
   "file_extension": ".py",
   "mimetype": "text/x-python",
   "name": "python",
   "nbconvert_exporter": "python",
   "pygments_lexer": "ipython3",
   "version": "3.11.13"
  }
 },
 "nbformat": 4,
 "nbformat_minor": 5
}
