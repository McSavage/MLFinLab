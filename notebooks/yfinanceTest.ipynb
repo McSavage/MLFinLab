{
 "cells": [
  {
   "cell_type": "code",
   "execution_count": 1,
   "id": "e80f4ee8",
   "metadata": {},
   "outputs": [],
   "source": [
    "# Financial data\n",
    "import yfinance as yf"
   ]
  },
  {
   "cell_type": "code",
   "execution_count": 4,
   "id": "7d6f21f7",
   "metadata": {},
   "outputs": [],
   "source": [
    "ticker = 'AAPL'\n",
    "stock = yf.Ticker(ticker)\n",
    "stock_meta = stock.info\n",
    "data = stock.history(period=\"1y\")"
   ]
  }
 ],
 "metadata": {
  "kernelspec": {
   "display_name": "MlFinLab",
   "language": "python",
   "name": "python3"
  },
  "language_info": {
   "codemirror_mode": {
    "name": "ipython",
    "version": 3
   },
   "file_extension": ".py",
   "mimetype": "text/x-python",
   "name": "python",
   "nbconvert_exporter": "python",
   "pygments_lexer": "ipython3",
   "version": "3.11.13"
  }
 },
 "nbformat": 4,
 "nbformat_minor": 5
}
